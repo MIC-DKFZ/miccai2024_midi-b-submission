{
 "cells": [
  {
   "cell_type": "code",
   "execution_count": 1,
   "id": "0f854914-2cc3-45a9-86bb-f520c2060d32",
   "metadata": {},
   "outputs": [],
   "source": [
    "import sys\n",
    " \n",
    "# setting path\n",
    "sys.path.append('../')\n",
    "\n",
    "import pydicom\n",
    "\n",
    "from utils.display import display_dicom"
   ]
  },
  {
   "cell_type": "code",
   "execution_count": 2,
   "id": "b0b8f510-183e-4da0-bb25-41da7f3c5145",
   "metadata": {},
   "outputs": [],
   "source": [
    "sample_dcm_path = \"/home/r079a/Desktop/de-identification/dataset/midi-test-data/input_data_half/402272604/2.5.534.0.2.8336183.5.286.1916365342594917934/2.5.534.0.2.8336183.5.286.1934520902331114070/00000159.dcm\""
   ]
  },
  {
   "cell_type": "code",
   "execution_count": 3,
   "id": "f34e85fe-b519-4bde-9bc7-2a4cddb1ef98",
   "metadata": {},
   "outputs": [],
   "source": [
    "ds = pydicom.dcmread(sample_dcm_path)"
   ]
  },
  {
   "cell_type": "code",
   "execution_count": 4,
   "id": "53b1ea30-307e-42ea-9159-921af8a2a47a",
   "metadata": {},
   "outputs": [
    {
     "data": {
      "text/plain": [
       "Dataset.file_meta -------------------------------\n",
       "(0002, 0000) File Meta Information Group Length  UL: 178\n",
       "(0002, 0001) File Meta Information Version       OB: b'\\x00\\x01'\n",
       "(0002, 0002) Media Storage SOP Class UID         UI: MR Image Storage\n",
       "(0002, 0003) Media Storage SOP Instance UID      UI: 2.5.534.0.2.8336183.5.286.1056983558785517134\n",
       "(0002, 0010) Transfer Syntax UID                 UI: Explicit VR Little Endian\n",
       "(0002, 0012) Implementation Class UID            UI: 1.2.40.0.13.1.1.1\n",
       "(0002, 0013) Implementation Version Name         SH: 'dcm4che-1.4.35'\n",
       "-------------------------------------------------\n",
       "(0008, 0008) Image Type                          CS: ['DERIVED', 'PRIMARY', 'DCE', 'PE1']\n",
       "(0008, 0016) SOP Class UID                       UI: MR Image Storage\n",
       "(0008, 0018) SOP Instance UID                    UI: 2.5.534.0.2.8336183.5.286.1056983558785517134\n",
       "(0008, 0020) Study Date                          DA: '20191029'\n",
       "(0008, 0021) Series Date                         DA: '20191029'\n",
       "(0008, 0022) Acquisition Date                    DA: '20191029'\n",
       "(0008, 0023) Content Date                        DA: '20191029'\n",
       "(0008, 0030) Study Time                          TM: '163638'\n",
       "(0008, 0031) Series Time                         TM: '163708'\n",
       "(0008, 0032) Acquisition Time                    TM: '163753'\n",
       "(0008, 0033) Content Time                        TM: '163638'\n",
       "(0008, 0050) Accession Number                    SH: '989B8190'\n",
       "(0008, 0060) Modality                            CS: 'MR'\n",
       "(0008, 0070) Manufacturer                        LO: 'GE MEDICAL SYSTEMS'\n",
       "(0008, 0090) Referring Physician's Name          PN: 'PETERSON^MICHAEL'\n",
       "(0008, 1030) Study Description                   LO: 'MR BREAST BILAT W OR WO SCCA 20191029'\n",
       "(0008, 103e) Series Description                  LO: 'BILAT T1 SPGR PRE: PE1 for 402272604'\n",
       "(0008, 1090) Manufacturer's Model Name           LO: 'SIGNA EXCITE'\n",
       "(0008, 2111) Derivation Description              ST: 'Percent Enhancement from Contrast Enhanced MRI = 100*(Signal(post)-Signal(pre))/Signal(pre)\\r\\nMap derived from time points (0=pre-contrast): 0,1'\n",
       "(0009, 0010) Private Creator                     LO: 'GEMS_IDEN_01'\n",
       "(0009, 0011) Private Creator                     LO: 'GEIIS'\n",
       "(0010, 0010) Patient's Name                      PN: 'DURAN^AMY'\n",
       "(0010, 0020) Patient ID                          LO: '402272604'\n",
       "(0010, 0030) Patient's Birth Date                DA: '19800929'\n",
       "(0010, 0040) Patient's Sex                       CS: 'F'\n",
       "(0010, 1010) Patient's Age                       AS: '039Y'\n",
       "(0010, 1020) Patient's Size                      DS: '1.566'\n",
       "(0010, 1030) Patient's Weight                    DS: '100.356'\n",
       "(0010, 2160) Ethnic Group                        SH: 'Hispanic'\n",
       "(0010, 2180) Occupation                          SH: 'Retail manager'\n",
       "(0010, 21b0) Additional Patient History          LT: Array of 55 elements\n",
       "(0010, 4000) Patient Comments                    LT: Array of 27 elements\n",
       "(0012, 0010) Clinical Trial Sponsor Name         LO: 'American_College_of_Radiology'\n",
       "(0012, 0020) Clinical Trial Protocol ID          LO: '83706'\n",
       "(0012, 0021) Clinical Trial Protocol Name        LO: 'MRI EVALUATION OF STAGE III BREAST PATIENTS'\n",
       "(0012, 0030) Clinical Trial Site ID              LO: 'Site AAC'\n",
       "(0012, 0040) Clinical Trial Subject ID           LO: '402272604'\n",
       "(0012, 0042) Clinical Trial Subject Reading ID   LO: '227'\n",
       "(0012, 0050) Clinical Trial Time Point ID        LO: 'T1'\n",
       "(0012, 0051) Clinical Trial Time Point Descripti ST: 'baseline'\n",
       "(0018, 0015) Body Part Examined                  CS: 'BREAST'\n",
       "(0018, 0020) Scanning Sequence                   CS: 'RM'\n",
       "(0018, 0021) Sequence Variant                    CS: 'OSP'\n",
       "(0018, 0022) Scan Options                        CS: ['SAT_GEMS', 'NPW', 'FS']\n",
       "(0018, 0023) MR Acquisition Type                 CS: '3D'\n",
       "(0018, 0025) Angio Flag                          CS: 'N'\n",
       "(0018, 0050) Slice Thickness                     DS: '3.0'\n",
       "(0018, 0080) Repetition Time                     DS: '6.484'\n",
       "(0018, 0081) Echo Time                           DS: '4.2'\n",
       "(0018, 0082) Inversion Time                      DS: '7.0'\n",
       "(0018, 0083) Number of Averages                  DS: '0.5'\n",
       "(0018, 0084) Imaging Frequency                   DS: '63.8622785'\n",
       "(0018, 0085) Imaged Nucleus                      SH: '1H'\n",
       "(0018, 0086) Echo Number(s)                      IS: '1'\n",
       "(0018, 0087) Magnetic Field Strength             DS: '1.5'\n",
       "(0018, 0088) Spacing Between Slices              DS: '1.5'\n",
       "(0018, 0091) Echo Train Length                   IS: '1'\n",
       "(0018, 0093) Percent Sampling                    DS: '66.6667'\n",
       "(0018, 0094) Percent Phase Field of View         DS: '100.0'\n",
       "(0018, 0095) Pixel Bandwidth                     DS: '390.625'\n",
       "(0018, 1000) Device Serial Number                LO: '2THXSFX4DNL5X'\n",
       "(0018, 1020) Software Versions                   LO: '12 LX MR Software release:12.0_M4_0520.a'\n",
       "(0018, 1030) Protocol Name                       LO: 'Ordered for 834-17-7405 by Dr. Peterson'\n",
       "(0018, 1088) Heart Rate                          IS: '60'\n",
       "(0018, 1090) Cardiac Number of Images            IS: '0'\n",
       "(0018, 1094) Trigger Window                      IS: '0'\n",
       "(0018, 1100) Reconstruction Diameter             DS: '220.0'\n",
       "(0018, 1250) Receive Coil Name                   SH: 'HDBreast'\n",
       "(0018, 1310) Acquisition Matrix                  US: [256, 0, 0, 192]\n",
       "(0018, 1312) In-plane Phase Encoding Direction   CS: 'COL'\n",
       "(0018, 1314) Flip Angle                          DS: '10.0'\n",
       "(0018, 1315) Variable Flip Angle Flag            CS: 'N'\n",
       "(0018, 1316) SAR                                 DS: '0.33032'\n",
       "(0018, 4000) Acquisition Comments                LT: Array of 62 elements\n",
       "(0018, 5100) Patient Position                    CS: 'FFP'\n",
       "(0019, 0010) Private Creator                     LO: 'GEMS_ACQU_01'\n",
       "(0020, 000d) Study Instance UID                  UI: 2.5.534.0.2.8336183.5.286.1916365342594917934\n",
       "(0020, 000e) Series Instance UID                 UI: 2.5.534.0.2.8336183.5.286.1934520902331114070\n",
       "(0020, 0010) Study ID                            SH: '352910'\n",
       "(0020, 0011) Series Number                       IS: '20191029'\n",
       "(0020, 0012) Acquisition Number                  IS: '1'\n",
       "(0020, 0013) Instance Number                     IS: '10'\n",
       "(0020, 0032) Image Position (Patient)            DS: [173.522, -121.375, 156.414]\n",
       "(0020, 0037) Image Orientation (Patient)         DS: [-0.0, 1.0, 0.0, -0.0, -0.0, -1.0]\n",
       "(0020, 0052) Frame of Reference UID              UI: 2.5.534.0.2.8336183.5.286.1303263234585614135\n",
       "(0020, 0060) Laterality                          CS: 'L'\n",
       "(0020, 1002) Images in Acquisition               IS: '256'\n",
       "(0020, 1041) Slice Location                      DS: '-173.5219421'\n",
       "(0021, 0010) Private Creator                     LO: 'GEMS_RELA_01'\n",
       "(0023, 0010) Private Creator                     LO: 'GEMS_STDY_01'\n",
       "(0025, 0010) Private Creator                     LO: 'GEMS_SERS_01'\n",
       "(0027, 0010) Private Creator                     LO: 'GEMS_IMAG_01'\n",
       "(0028, 0002) Samples per Pixel                   US: 1\n",
       "(0028, 0004) Photometric Interpretation          CS: 'MONOCHROME2'\n",
       "(0028, 0010) Rows                                US: 256\n",
       "(0028, 0011) Columns                             US: 256\n",
       "(0028, 0030) Pixel Spacing                       DS: [0.859375, 0.859375]\n",
       "(0028, 0100) Bits Allocated                      US: 16\n",
       "(0028, 0101) Bits Stored                         US: 16\n",
       "(0028, 0102) High Bit                            US: 15\n",
       "(0028, 0103) Pixel Representation                US: 1\n",
       "(0028, 0106) Smallest Image Pixel Value          SS: 0\n",
       "(0028, 0107) Largest Image Pixel Value           SS: 274\n",
       "(0028, 0108) Smallest Pixel Value in Series      US: 0\n",
       "(0028, 0109) Largest Pixel Value in Series       US: 7428\n",
       "(0028, 0120) Pixel Padding Value                 US: 0\n",
       "(0028, 0303) Longitudinal Temporal Information M CS: 'MODIFIED'\n",
       "(0028, 1050) Window Center                       DS: '137.0'\n",
       "(0028, 1051) Window Width                        DS: '274.0'\n",
       "(0029, 0010) Private Creator                     LO: 'GEMS_IMPS_01'\n",
       "(0032, 1060) Requested Procedure Description     LO: 'Ordered for Amy Duran by Dr. Peterson'\n",
       "(0032, 4000) Study Comments                      LT: Array of 55 elements\n",
       "(0040, 0241) Performed Station AE Title          AE: 'DMAOMC_SCU'\n",
       "(0040, 0275)  Request Attributes Sequence  1 item(s) ---- \n",
       "   (0040, 0007) Scheduled Procedure Step Descriptio LO: 'Performed 20191029'\n",
       "   ---------\n",
       "(0040, 1400) Requested Procedure Comments        LT: Array of 39 elements\n",
       "(0040, a075) Verifying Observer Name             PN: 'GUTIERREZ^ROBYN'\n",
       "(0040, a123) Person Name                         PN: 'DURAN^AMY'\n",
       "(0043, 0010) Private Creator                     LO: 'GEMS_PARM_01'\n",
       "(004b, 0010) Private Creator                     LO: 'GEIIS'\n",
       "(0070, 0084) Content Creator's Name              PN: 'SMITH^MICHAEL'\n",
       "(0117, 0010) Private Creator                     LO: 'UCSF BIRP PRIVATE CREATOR 011710xx'\n",
       "(0117, 1010)  Private tag data  0 item(s) ---- \n",
       "(0117, 1020)  Private tag data  1 item(s) ---- \n",
       "   (0117, 0010) Private Creator                     LO: 'UCSF BIRP PRIVATE CREATOR 011710xx'\n",
       "   (0117, 1041) Private tag data                    IS: '1'\n",
       "   (0117, 1042) Private tag data                    DS: [111.272000075, -27.273437543, 27.937437543, 1.0]\n",
       "   (0117, 1043) Private tag data                    DS: [-0.0, 69.609374957, 0.0, 1.0]\n",
       "   (0117, 1044) Private tag data                    DS: [0.0, 0.0, 56.718749957, 1.0]\n",
       "   (0117, 1045) Private tag data                    DS: [37.499999925, 0.0, -0.0, 1.0]\n",
       "   (0117, 1046) Private tag data                    CS: 'VOI'\n",
       "   ---------\n",
       "(0117, 1024)  Private tag data  1 item(s) ---- \n",
       "   (0117, 0010) Private Creator                     LO: 'UCSF BIRP PRIVATE CREATOR 011710XX'\n",
       "   (0117, 10c4) Private tag data                    LT: Array of 39 elements\n",
       "   ---------\n",
       "(0117, 1030) Private tag data                    IS: '3'\n",
       "(0117, 1031) Private tag data                    DS: '388.0'\n",
       "(0117, 1033) Private tag data                    TM: '163557'\n",
       "(0117, 1034) Private tag data                    DS: [-204.0, 194.0, 582.0]\n",
       "(0117, 1035) Private tag data                    IS: [0, 1, 2]\n",
       "(0117, 103a) Private tag data                    LO: 'AUTOMATIC'\n",
       "(0117, 103b) Private tag data                    LT: Array of 148 elements\n",
       "(0117, 10a1) Private tag data                    US: [29, 84, 26]\n",
       "(0117, 10a2) Private tag data                    US: [190, 215, 75]\n",
       "(0117, 10b0)  Private tag data  1 item(s) ---- \n",
       "   (0117, 0010) Private Creator                     LO: 'UCSF BIRP PRIVATE CREATOR 011710xx'\n",
       "   (0117, 10b1) Private tag data                    DS: '0.0'\n",
       "   (0117, 10b2) Private tag data                    DS: '3.0'\n",
       "   (0117, 10b3) Private tag data                    IS: '37649'\n",
       "   (0117, 10b4) Private tag data                    DS: '41.7071136475'\n",
       "   (0117, 10b5) Private tag data                    LO: 'FTVpe(PEearly>70%)'\n",
       "   ---------\n",
       "(7fd1, 0010) Private Creator                     LO: 'GEIIS'\n",
       "(7fe0, 0010) Pixel Data                          OW: Array of 131072 elements"
      ]
     },
     "execution_count": 4,
     "metadata": {},
     "output_type": "execute_result"
    }
   ],
   "source": [
    "ds"
   ]
  },
  {
   "cell_type": "code",
   "execution_count": 5,
   "id": "d635ccb6-7fee-4287-b606-c525df4e03db",
   "metadata": {},
   "outputs": [
    {
     "name": "stdout",
     "output_type": "stream",
     "text": [
      "(7fe0, 0010) Pixel Data\n"
     ]
    }
   ],
   "source": [
    "for element in ds.elements():\n",
    "    if element.VR == 'OW':\n",
    "        print(element.tag, element.name)\n",
    "        # print(element.value)"
   ]
  },
  {
   "cell_type": "code",
   "execution_count": 6,
   "id": "06071b74-2d0c-4ee9-9825-92ae1b92426c",
   "metadata": {},
   "outputs": [
    {
     "name": "stdout",
     "output_type": "stream",
     "text": [
      "(256, 256)\n"
     ]
    }
   ],
   "source": [
    "print(ds.pixel_array.shape)"
   ]
  },
  {
   "cell_type": "code",
   "execution_count": 7,
   "id": "3ef9c541-80d4-4ddf-b574-8636ca4ec534",
   "metadata": {},
   "outputs": [
    {
     "data": {
      "image/png": "[encoded data removed]",
      "text/plain": [
       "<Figure size 640x480 with 1 Axes>"
      ]
     },
     "metadata": {},
     "output_type": "display_data"
    }
   ],
   "source": [
    "display_dicom(ds)"
   ]
  },
  {
   "cell_type": "code",
   "execution_count": 8,
   "id": "14e52366-be55-402d-a57f-d259b762f0a0",
   "metadata": {},
   "outputs": [],
   "source": [
    "from dcm_anonymizers.phi_detectors import DcmRobustPHIDetector\n",
    "from dcm_anonymizers.img_anonymizers import DCMImageAnonymizer"
   ]
  },
  {
   "cell_type": "code",
   "execution_count": 9,
   "id": "ef5fd75a-110d-45d3-937a-42f0709840e5",
   "metadata": {},
   "outputs": [],
   "source": [
    "phi_detector = DcmRobustPHIDetector(logging=False)\n",
    "img_anonymizer = DCMImageAnonymizer(phi_detector=phi_detector)"
   ]
  },
  {
   "cell_type": "code",
   "execution_count": 10,
   "id": "932a101e-d064-4be1-8384-80fc087e32bb",
   "metadata": {},
   "outputs": [
    {
     "name": "stdout",
     "output_type": "stream",
     "text": [
      "False\n"
     ]
    }
   ],
   "source": [
    "changed = img_anonymizer.anonymize_dicom_image_data(ds)\n",
    "print(changed)"
   ]
  },
  {
   "cell_type": "code",
   "execution_count": 11,
   "id": "970f9fc6-f484-40ba-828e-13a71b60460c",
   "metadata": {},
   "outputs": [
    {
     "data": {
      "image/png": "[encoded data removed]",
      "text/plain": [
       "<Figure size 640x480 with 1 Axes>"
      ]
     },
     "metadata": {},
     "output_type": "display_data"
    }
   ],
   "source": [
    "display_dicom(ds)"
   ]
  },
  {
   "cell_type": "code",
   "execution_count": null,
   "id": "8aaec8b8-5d80-4926-9946-bcfc5fbae7ac",
   "metadata": {},
   "outputs": [],
   "source": []
  }
 ],
 "metadata": {
  "kernelspec": {
   "display_name": "dcm-deid",
   "language": "python",
   "name": "dcm-deid"
  },
  "language_info": {
   "codemirror_mode": {
    "name": "ipython",
    "version": 3
   },
   "file_extension": ".py",
   "mimetype": "text/x-python",
   "name": "python",
   "nbconvert_exporter": "python",
   "pygments_lexer": "ipython3",
   "version": "3.12.0"
  }
 },
 "nbformat": 4,
 "nbformat_minor": 5
}
