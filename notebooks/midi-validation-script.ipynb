{
 "cells": [
  {
   "cell_type": "code",
   "execution_count": 29,
   "metadata": {},
   "outputs": [],
   "source": [
    "import sqlite3\n",
    "import json\n",
    "import pydicom\n",
    "import os\n",
    "from pydicom.tag import Tag\n",
    "import re"
   ]
  },
  {
   "cell_type": "code",
   "execution_count": 15,
   "metadata": {},
   "outputs": [
    {
     "name": "stdout",
     "output_type": "stream",
     "text": [
      "{(0020, 000e): 'Series Instance UID', (0008, 0018): 'SOP Instance UID', (0020, 000d): 'Study Instance UID', (0008, 0022): 'Acquisition Date', (0008, 0023): 'Content Date', (0010, 0030): \"Patient's Birth Date\", (0008, 0021): 'Series Date', (0008, 0020): 'Study Date', (0018, 700a): 'Detector ID', (0010, 0020): 'Patient ID', (0020, 0010): 'Study ID', (0008, 0050): 'Accession Number', (0010, 0010): \"Patient's Name\", (0010, 0040): \"Patient's Sex\", (0008, 0090): \"Referring Physician's Name\", (0008, 0030): 'Study Time', (0008, 2111): 'Derivation Description', (0008, 0081): 'Institution Address', (0010, 1010): \"Patient's Age\", (0008, 1050): \"Performing Physician's Name\", (0008, 0092): \"Referring Physician's Address\", (0008, 1030): 'Study Description', (0008, 0032): 'Acquisition Time', (0018, 1400): 'Acquisition Device Processing Description', (0008, 0031): 'Series Time', (0008, 0033): 'Content Time', (0018, 0010): 'Contrast/Bolus Agent', (0008, 0080): 'Institution Name'}\n"
     ]
    }
   ],
   "source": [
    "\n",
    "\n",
    "# Step 1: Load the JSON file to get the list of required DICOM tags\n",
    "json_file_path = 'C:/src/midi_b_challange/docs/ps3.3_profile_attrs.json'\n",
    "with open(json_file_path, 'r') as file:\n",
    "    required_tags = json.load(file)\n",
    "\n",
    "def parse_dicom_tag(tag_str):\n",
    "    # Remove parentheses and split the string by comma\n",
    "    tag_str = tag_str.strip('()')\n",
    "    group, element = tag_str.split(', ')\n",
    "    \n",
    "    # Convert the group and element to integers\n",
    "    group = int(group, 16)\n",
    "    element = int(element, 16)\n",
    "    \n",
    "    # Create and return the Tag object\n",
    "    return Tag(group, element)\n",
    "\n",
    "required_tags_values = [\n",
    "    parse_dicom_tag(x)\n",
    "    for xs in list(required_tags.values())\n",
    "    for x in xs\n",
    "]\n",
    "\n",
    "\n",
    "# Step 2: Read the DICOM file\n",
    "dicom_file_path = 'C:/src/midi_b_challange/data/images/manifest-1617826555824/Pseudo-PHI-DICOM-Data/292821506/07-13-2013-NA-XR CHEST AP PORTABLE for Douglas Davidson-46198/1001.000000-NA-37718/1-1.dcm'\n",
    "\n",
    "test_dcm = pydicom.dcmread(dicom_file_path)\n",
    "\n",
    "# Step 3: Extract the values of the required tags from the DICOM file\n",
    "extracted_values = {}\n",
    "for tag in required_tags_values:\n",
    "    if tag in test_dcm:\n",
    "        extracted_values[tag] = test_dcm[tag].name\n",
    "\n",
    "# Print or use the extracted values as needed\n",
    "print(extracted_values)"
   ]
  },
  {
   "cell_type": "code",
   "execution_count": 28,
   "metadata": {},
   "outputs": [
    {
     "data": {
      "text/plain": [
       "dict_values(['Series Instance UID', 'SOP Instance UID', 'Study Instance UID', 'Acquisition Date', 'Content Date', \"Patient's Birth Date\", 'Series Date', 'Study Date', 'Detector ID', 'Patient ID', 'Study ID', 'Accession Number', \"Patient's Name\", \"Patient's Sex\", \"Referring Physician's Name\", 'Study Time', 'Derivation Description', 'Institution Address', \"Patient's Age\", \"Performing Physician's Name\", \"Referring Physician's Address\", 'Study Description', 'Acquisition Time', 'Acquisition Device Processing Description', 'Series Time', 'Content Time', 'Contrast/Bolus Agent', 'Institution Name'])"
      ]
     },
     "execution_count": 28,
     "metadata": {},
     "output_type": "execute_result"
    }
   ],
   "source": [
    "extracted_values.values()"
   ]
  },
  {
   "cell_type": "code",
   "execution_count": 59,
   "metadata": {},
   "outputs": [],
   "source": [
    "conn = sqlite3.connect('C:/src/midi_b_challange/data/answers.db')\n",
    "c = conn.cursor()\n",
    "\n",
    "RX = re.compile(r\"([ '/])\")\n",
    "unique_compr_values = [RX.sub(r'', tn) for tn in set(extracted_values.values())]\n",
    "\n",
    "# Create the answer_data table\n",
    "c.execute('''\n",
    "    CREATE TABLE IF NOT EXISTS answer_data (\n",
    "        id INTEGER PRIMARY KEY AUTOINCREMENT,\n",
    "        {}\n",
    "    )\n",
    "'''.format(', '.join([f\"{tag} TEXT\" for tag in unique_compr_values])))\n",
    "conn.commit()\n"
   ]
  },
  {
   "cell_type": "code",
   "execution_count": 58,
   "metadata": {},
   "outputs": [
    {
     "data": {
      "text/plain": [
       "<sqlite3.Cursor at 0x181c8bcc0c0>"
      ]
     },
     "execution_count": 58,
     "metadata": {},
     "output_type": "execute_result"
    }
   ],
   "source": [
    "c.execute('''DROP TABLE IF EXISTS answer_data''')"
   ]
  },
  {
   "cell_type": "code",
   "execution_count": 56,
   "metadata": {},
   "outputs": [
    {
     "name": "stdout",
     "output_type": "stream",
     "text": [
      "[]\n"
     ]
    }
   ],
   "source": [
    "cursor = conn.execute('SELECT * FROM answer_data')\n",
    "results = cursor.fetchall()\n",
    "print(results)"
   ]
  },
  {
   "cell_type": "code",
   "execution_count": 69,
   "metadata": {},
   "outputs": [
    {
     "ename": "KeyError",
     "evalue": "(0018, 1400)",
     "output_type": "error",
     "traceback": [
      "\u001b[1;31m---------------------------------------------------------------------------\u001b[0m",
      "\u001b[1;31mKeyError\u001b[0m                                  Traceback (most recent call last)",
      "Cell \u001b[1;32mIn[69], line 19\u001b[0m\n\u001b[0;32m     17\u001b[0m     \u001b[38;5;28;01mcontinue\u001b[39;00m\n\u001b[0;32m     18\u001b[0m dcm \u001b[38;5;241m=\u001b[39m pydicom\u001b[38;5;241m.\u001b[39mdcmread(os\u001b[38;5;241m.\u001b[39mpath\u001b[38;5;241m.\u001b[39mjoin(subdir, file))\n\u001b[1;32m---> 19\u001b[0m values \u001b[38;5;241m=\u001b[39m [\u001b[38;5;28mstr\u001b[39m(\u001b[43mdcm\u001b[49m\u001b[43m[\u001b[49m\u001b[43mc\u001b[49m\u001b[43m]\u001b[49m\u001b[38;5;241m.\u001b[39mvalue) \u001b[38;5;28;01mfor\u001b[39;00m c \u001b[38;5;129;01min\u001b[39;00m columns_tagids]\n\u001b[0;32m     21\u001b[0m c\u001b[38;5;241m.\u001b[39mexecute(\u001b[38;5;124mf\u001b[39m\u001b[38;5;124m'''\u001b[39m\n\u001b[0;32m     22\u001b[0m \u001b[38;5;124m    INSERT INTO answer_data (\u001b[39m\u001b[38;5;132;01m{\u001b[39;00mcolumns\u001b[38;5;132;01m}\u001b[39;00m\u001b[38;5;124m)\u001b[39m\n\u001b[0;32m     23\u001b[0m \u001b[38;5;124m    VALUES (\u001b[39m\u001b[38;5;132;01m{\u001b[39;00mplaceholders\u001b[38;5;132;01m}\u001b[39;00m\u001b[38;5;124m)\u001b[39m\n\u001b[0;32m     24\u001b[0m \u001b[38;5;124m\u001b[39m\u001b[38;5;124m'''\u001b[39m, values)\n\u001b[0;32m     25\u001b[0m index_id \u001b[38;5;241m+\u001b[39m\u001b[38;5;241m=\u001b[39m \u001b[38;5;241m1\u001b[39m\n",
      "File \u001b[1;32m~\\AppData\\Local\\Packages\\PythonSoftwareFoundation.Python.3.12_qbz5n2kfra8p0\\LocalCache\\local-packages\\Python312\\site-packages\\pydicom\\dataset.py:988\u001b[0m, in \u001b[0;36mDataset.__getitem__\u001b[1;34m(self, key)\u001b[0m\n\u001b[0;32m    985\u001b[0m     \u001b[38;5;28;01mexcept\u001b[39;00m \u001b[38;5;167;01mException\u001b[39;00m \u001b[38;5;28;01mas\u001b[39;00m exc:\n\u001b[0;32m    986\u001b[0m         \u001b[38;5;28;01mraise\u001b[39;00m \u001b[38;5;167;01mKeyError\u001b[39;00m(\u001b[38;5;124mf\u001b[39m\u001b[38;5;124m\"\u001b[39m\u001b[38;5;124m'\u001b[39m\u001b[38;5;132;01m{\u001b[39;00mkey\u001b[38;5;132;01m}\u001b[39;00m\u001b[38;5;124m'\u001b[39m\u001b[38;5;124m\"\u001b[39m) \u001b[38;5;28;01mfrom\u001b[39;00m \u001b[38;5;21;01mexc\u001b[39;00m\n\u001b[1;32m--> 988\u001b[0m elem \u001b[38;5;241m=\u001b[39m \u001b[38;5;28;43mself\u001b[39;49m\u001b[38;5;241;43m.\u001b[39;49m\u001b[43m_dict\u001b[49m\u001b[43m[\u001b[49m\u001b[43mtag\u001b[49m\u001b[43m]\u001b[49m\n\u001b[0;32m    990\u001b[0m \u001b[38;5;28;01mif\u001b[39;00m \u001b[38;5;28misinstance\u001b[39m(elem, RawDataElement):\n\u001b[0;32m    991\u001b[0m     \u001b[38;5;66;03m# If a deferred read, then go get the value now\u001b[39;00m\n\u001b[0;32m    992\u001b[0m     \u001b[38;5;28;01mif\u001b[39;00m elem\u001b[38;5;241m.\u001b[39mvalue \u001b[38;5;129;01mis\u001b[39;00m \u001b[38;5;28;01mNone\u001b[39;00m \u001b[38;5;129;01mand\u001b[39;00m elem\u001b[38;5;241m.\u001b[39mlength \u001b[38;5;241m!=\u001b[39m \u001b[38;5;241m0\u001b[39m:\n",
      "\u001b[1;31mKeyError\u001b[0m: (0018, 1400)"
     ]
    }
   ],
   "source": [
    "group_id = 0\n",
    "index_id = 0\n",
    "\n",
    "columns = ', '.join(unique_compr_values)\n",
    "columns_tagids = set(extracted_values.keys())\n",
    "placeholders = ', '.join(['?'] * (len(extracted_values)))\n",
    "\n",
    "\n",
    "current_subdir = \"\"\n",
    "for subdir, dirs, files in os.walk(\"C:/src/midi_b_challange/data/images/manifest-1617826555824/Pseudo-PHI-DICOM-Data/\"):\n",
    "    if current_subdir != subdir:\n",
    "        group_id += 1\n",
    "        index_id = 0\n",
    "        current_subdir = subdir\n",
    "    for file in files:\n",
    "        if not file.endswith('.dcm'):\n",
    "            continue\n",
    "        dcm = pydicom.dcmread(os.path.join(subdir, file))\n",
    "        \n",
    "        values = [str(dcm[c].value) if c in dcm else \"\" for c in columns_tagids]\n",
    "\n",
    "        c.execute(f'''\n",
    "            INSERT INTO answer_data ({columns})\n",
    "            VALUES ({placeholders})\n",
    "        ''', values)\n",
    "        index_id += 1\n",
    "        \n"
   ]
  },
  {
   "cell_type": "code",
   "execution_count": 67,
   "metadata": {},
   "outputs": [
    {
     "data": {
      "text/plain": [
       "[(0018, 1400) Acquisition Device Processing Descr LO: 'CHEST AP PORT X-WISE GRID',\n",
       " (0008, 0081) Institution Address                 ST: '334 Michael Manor Sarahview, PA 56560',\n",
       " (0008, 0080) Institution Name                    LO: 'Scott Community Hospital',\n",
       " (0018, 700a) Detector ID                         SH: '',\n",
       " (0020, 000d) Study Instance UID                  UI: 2.25.106461954783291641048254423668956446198,\n",
       " (0020, 000e) Series Instance UID                 UI: 2.25.159938781348401988370074200042204937718,\n",
       " (0020, 0010) Study ID                            SH: '',\n",
       " (0010, 0010) Patient's Name                      PN: 'DAVIDSON^DOUGLAS',\n",
       " (0008, 0090) Referring Physician's Name          PN: 'HUGHES^KATHLEEN',\n",
       " (0008, 2111) Derivation Description              ST: 'G1.0e#1.60+0.20,MDR0.2AM0.6',\n",
       " (0010, 1010) Patient's Age                       AS: '037Y',\n",
       " (0008, 0092) Referring Physician's Address       ST: '0544 Green Inlet Jeffreyland, HI 66060',\n",
       " (0018, 0010) Contrast/Bolus Agent                LO: '',\n",
       " (0008, 0018) SOP Instance UID                    UI: 2.25.319543490466577232566740674566222888438,\n",
       " (0008, 0020) Study Date                          DA: '20130713',\n",
       " (0008, 0021) Series Date                         DA: '20130713',\n",
       " (0008, 0022) Acquisition Date                    DA: '20130713',\n",
       " (0008, 0023) Content Date                        DA: '20130713',\n",
       " (0010, 0020) Patient ID                          LO: '292821506',\n",
       " (0010, 0030) Patient's Birth Date                DA: '19760616',\n",
       " (0008, 0030) Study Time                          TM: '085957',\n",
       " (0008, 1030) Study Description                   LO: 'XR CHEST AP PORTABLE for Douglas Davidson',\n",
       " (0008, 0032) Acquisition Time                    TM: '090013.117',\n",
       " (0008, 0031) Series Time                         TM: '090013.000',\n",
       " (0008, 0033) Content Time                        TM: '090034.098',\n",
       " (0010, 0040) Patient's Sex                       CS: 'M',\n",
       " (0008, 0050) Accession Number                    SH: '20130714E864535',\n",
       " (0008, 1050) Performing Physician's Name         PN: 'BROWN^PETER']"
      ]
     },
     "execution_count": 67,
     "metadata": {},
     "output_type": "execute_result"
    }
   ],
   "source": [
    "values"
   ]
  }
 ],
 "metadata": {
  "kernelspec": {
   "display_name": "dkfz-dicom-deid-txGu5Zcf-py3.12",
   "language": "python",
   "name": "python3"
  },
  "language_info": {
   "codemirror_mode": {
    "name": "ipython",
    "version": 3
   },
   "file_extension": ".py",
   "mimetype": "text/x-python",
   "name": "python",
   "nbconvert_exporter": "python",
   "pygments_lexer": "ipython3",
   "version": "3.12.4"
  }
 },
 "nbformat": 4,
 "nbformat_minor": 2
}
