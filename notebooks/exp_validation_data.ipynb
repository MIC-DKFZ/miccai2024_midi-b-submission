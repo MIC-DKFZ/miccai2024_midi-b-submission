{
 "cells": [
  {
   "cell_type": "code",
   "execution_count": 1,
   "id": "05f09fd2-bf5b-4370-afb9-7dac1632ca16",
   "metadata": {},
   "outputs": [],
   "source": [
    "import sys\n",
    " \n",
    "# setting path\n",
    "sys.path.append('../')\n",
    "\n",
    "from utils.display import display_pixel_arry\n",
    "\n",
    "from dcm_anonymizers.img_anonymizers import DCMImageAnonymizer\n",
    "# from dcm_anonymizers.phi_detectors import DcmRobustPHIDetector\n",
    "\n",
    "from pydicom import dcmread\n",
    "\n",
    "from pathlib import Path"
   ]
  },
  {
   "cell_type": "code",
   "execution_count": 2,
   "id": "dd082ca1-df3b-4a52-99ca-a4bc7934f286",
   "metadata": {},
   "outputs": [
    {
     "name": "stdout",
     "output_type": "stream",
     "text": [
      "/home/r079a/Desktop/de-identification/dataset/midi-validation-data/input_data/8172202354/3.4.823.0.1.5139398.5.009.3225903761765232034/3.4.823.0.1.5139398.5.009.2213188170240812441/00000105.dcm\n"
     ]
    }
   ],
   "source": [
    "validation_data_path = \"/home/r079a/Desktop/de-identification/dataset/midi-validation-data\"\n",
    "sample_dicom = Path(validation_data_path, 'input_data/8172202354/3.4.823.0.1.5139398.5.009.3225903761765232034/3.4.823.0.1.5139398.5.009.2213188170240812441/00000105.dcm')\n",
    "\n",
    "# sample_dicom = Path(validation_data_path, 'input_data/2951928526/2.1.846.0.0.0624952.3.426.1171423858789191618/2.1.846.0.0.0624952.3.426.4666769529569841014/00000001.dcm')\n",
    "\n",
    "print(sample_dicom)"
   ]
  },
  {
   "cell_type": "code",
   "execution_count": 3,
   "id": "47cdf271-4b5c-407e-a125-c61a65a0c59f",
   "metadata": {},
   "outputs": [],
   "source": [
    "dataset = dcmread(sample_dicom)"
   ]
  },
  {
   "cell_type": "code",
   "execution_count": 4,
   "id": "05e35140-704c-4606-a55d-76af31f66293",
   "metadata": {},
   "outputs": [],
   "source": [
    "pixel_data = dataset.get(\"pixel_array\")"
   ]
  },
  {
   "cell_type": "code",
   "execution_count": 5,
   "id": "02e1e58c-ac1c-47e8-b6ac-72dfa3cd8669",
   "metadata": {},
   "outputs": [
    {
     "name": "stdout",
     "output_type": "stream",
     "text": [
      "True\n"
     ]
    }
   ],
   "source": [
    "print(\"PixelData\" in dataset)"
   ]
  },
  {
   "cell_type": "code",
   "execution_count": 6,
   "id": "d973c66c-2a6a-4f43-a794-639baf8f778f",
   "metadata": {},
   "outputs": [],
   "source": [
    "# print(pixel_data[0].shape)"
   ]
  },
  {
   "cell_type": "code",
   "execution_count": 7,
   "id": "48526aad-46b6-41ce-91de-a55af6f425e0",
   "metadata": {},
   "outputs": [],
   "source": [
    "# display_pixel_arry(pixel_data[0])"
   ]
  },
  {
   "cell_type": "code",
   "execution_count": 8,
   "id": "ab697de7-f000-4ad3-bd3b-445565e6e7c5",
   "metadata": {},
   "outputs": [],
   "source": [
    "# detector = DcmRobustPHIDetector()"
   ]
  },
  {
   "cell_type": "code",
   "execution_count": 9,
   "id": "a3776e67-925d-4053-bc9a-fb8e105d43ca",
   "metadata": {},
   "outputs": [],
   "source": [
    "# imganonymizer = DCMImageAnonymizer(phi_detector=detector)"
   ]
  },
  {
   "cell_type": "code",
   "execution_count": 10,
   "id": "1520cd75-d326-44d9-ba58-9c9b86296608",
   "metadata": {},
   "outputs": [],
   "source": [
    "# updated = imganonymizer.anonymize_dicom_image_data(dataset)"
   ]
  },
  {
   "cell_type": "code",
   "execution_count": 11,
   "id": "5655d347-d154-4460-a21b-ce68f77ddbea",
   "metadata": {},
   "outputs": [],
   "source": [
    "# updated"
   ]
  },
  {
   "cell_type": "code",
   "execution_count": 12,
   "id": "fdbc92d0-6ca4-496f-8e17-529ed1fc113f",
   "metadata": {},
   "outputs": [],
   "source": [
    "import pydicom\n",
    "from pydicom.dataset import Dataset, DataElement\n",
    "from pydicom.sequence import Sequence\n",
    "\n",
    "from dcm_anonymizers.private_tags_extractor import PrivateTagsExtractor"
   ]
  },
  {
   "cell_type": "code",
   "execution_count": 13,
   "id": "d15adf19-7ecf-4386-8b76-ecec8134690e",
   "metadata": {},
   "outputs": [],
   "source": [
    "ptags_dict = PrivateTagsExtractor('../docs/TCIAPrivateTagKB-02-01-2024-formatted.csv')"
   ]
  },
  {
   "cell_type": "code",
   "execution_count": 14,
   "id": "90863e13-119d-4705-b1d1-f224aec5b14a",
   "metadata": {},
   "outputs": [],
   "source": [
    "def extract_private_groups_n_creators(dataset):\n",
    "    creators = []\n",
    "    groups = []\n",
    "    for element in dataset:\n",
    "        if element.VR == 'OW':\n",
    "            continue\n",
    "        if element.tag.is_private:\n",
    "            groups.append(f\"{element.tag.group:04x}\")\n",
    "            if element.name == 'Private Creator' and element.value not in creators:                \n",
    "                creators.append(element.value)\n",
    "\n",
    "    groups = list(set(groups))\n",
    "\n",
    "    return groups, creators"
   ]
  },
  {
   "cell_type": "code",
   "execution_count": 15,
   "id": "16e1a261-71eb-4d16-a0da-2bcae84f1cd4",
   "metadata": {},
   "outputs": [
    {
     "name": "stdout",
     "output_type": "stream",
     "text": [
      "['0019', '0117', '0029', '0051', '0137']\n",
      "['SIEMENS MR HEADER', 'SIEMENS CSA HEADER', 'SIEMENS MEDCOM HEADER2', 'UCSF BIRP PRIVATE CREATOR 011710XX', 'NetRAAD']\n"
     ]
    }
   ],
   "source": [
    "groups, creators = extract_private_groups_n_creators(dataset)\n",
    "\n",
    "print(groups)\n",
    "print(creators)"
   ]
  },
  {
   "cell_type": "code",
   "execution_count": 16,
   "id": "45e08270-2597-4c2e-812c-79b735fd4db4",
   "metadata": {},
   "outputs": [],
   "source": [
    "def create_pattents_from_element(element, parent_elements: list[DataElement]):\n",
    "    patterns = []\n",
    "    if len(parent_elements) == 0:\n",
    "        patterns = ptags_dict.search_patterns_from_element(element, creators)\n",
    "    else:\n",
    "        element_pattens = ptags_dict.search_patterns_from_element(element, creators)\n",
    "        for pttrn in element_pattens:\n",
    "            filtered_rows = ptags_dict.filter_by_pattern_n_vr(pttrn, element.VR)\n",
    "            print(pttrn, len(filtered_rows))                                                         \n",
    "                                                              \n",
    "        for pe in parent_elements:\n",
    "            print(pe)\n",
    "\n",
    "    return patterns\n",
    "\n",
    "def traverse_dataset(dataset, parent_elements=[], is_root=True):\n",
    "    for elem in dataset:\n",
    "        tag = elem.tag\n",
    "        VR = elem.VR\n",
    "        value = elem.value\n",
    "        name = elem.name\n",
    "\n",
    "        # Check if the root element is private\n",
    "        if is_root:\n",
    "            if not elem.tag.is_private:\n",
    "                continue\n",
    "        \n",
    "        # Process the element\n",
    "        if isinstance(value, Sequence):\n",
    "            # If the value is a Sequence, recursively traverse each Dataset in the Sequence\n",
    "            # print(f\"Sequence: {name} (Tag: {tag})\")\n",
    "            updated_parent_elements = parent_elements.copy()\n",
    "            updated_parent_elements.append(elem)\n",
    "            for i, item in enumerate(value):\n",
    "                # print(f\"  Item {i} (Parent: {name})\")\n",
    "                traverse_dataset(item, parent_elements=updated_parent_elements, is_root=False)\n",
    "        else:\n",
    "            # process the data element\n",
    "            print(elem.tag)\n",
    "            patterns = create_pattents_from_element(elem, parent_elements)\n",
    "            print(patterns)\n",
    "            print(\"------------------\")"
   ]
  },
  {
   "cell_type": "code",
   "execution_count": 32,
   "id": "8240b05c-9398-4e2b-8c81-d1f270c70adf",
   "metadata": {},
   "outputs": [
    {
     "name": "stdout",
     "output_type": "stream",
     "text": [
      "(0019, 0010)\n",
      "['\\\\(0019,SIEMENS MR HEADER.*,10\\\\)', '\\\\(0019,SIEMENS CSA HEADER.*,10\\\\)', '\\\\(0019,SIEMENS MEDCOM HEADER2.*,10\\\\)', '\\\\(0019,UCSF BIRP PRIVATE CREATOR 011710XX.*,10\\\\)', '\\\\(0019,NetRAAD.*,10\\\\)', '\\\\(0019,.*,10\\\\)']\n",
      "------------------\n",
      "(0019, 100b)\n",
      "['\\\\(0019,SIEMENS MR HEADER.*,0b\\\\)', '\\\\(0019,SIEMENS CSA HEADER.*,0b\\\\)', '\\\\(0019,SIEMENS MEDCOM HEADER2.*,0b\\\\)', '\\\\(0019,UCSF BIRP PRIVATE CREATOR 011710XX.*,0b\\\\)', '\\\\(0019,NetRAAD.*,0b\\\\)', '\\\\(0019,.*,0b\\\\)']\n",
      "------------------\n",
      "(0019, 100c)\n",
      "['\\\\(0019,SIEMENS MR HEADER.*,0c\\\\)', '\\\\(0019,SIEMENS CSA HEADER.*,0c\\\\)', '\\\\(0019,SIEMENS MEDCOM HEADER2.*,0c\\\\)', '\\\\(0019,UCSF BIRP PRIVATE CREATOR 011710XX.*,0c\\\\)', '\\\\(0019,NetRAAD.*,0c\\\\)', '\\\\(0019,.*,0c\\\\)']\n",
      "------------------\n",
      "(0019, 100d)\n",
      "['\\\\(0019,SIEMENS MR HEADER.*,0d\\\\)', '\\\\(0019,SIEMENS CSA HEADER.*,0d\\\\)', '\\\\(0019,SIEMENS MEDCOM HEADER2.*,0d\\\\)', '\\\\(0019,UCSF BIRP PRIVATE CREATOR 011710XX.*,0d\\\\)', '\\\\(0019,NetRAAD.*,0d\\\\)', '\\\\(0019,.*,0d\\\\)']\n",
      "------------------\n",
      "(0019, 100f)\n",
      "['\\\\(0019,SIEMENS MR HEADER.*,0f\\\\)', '\\\\(0019,SIEMENS CSA HEADER.*,0f\\\\)', '\\\\(0019,SIEMENS MEDCOM HEADER2.*,0f\\\\)', '\\\\(0019,UCSF BIRP PRIVATE CREATOR 011710XX.*,0f\\\\)', '\\\\(0019,NetRAAD.*,0f\\\\)', '\\\\(0019,.*,0f\\\\)']\n",
      "------------------\n",
      "(0019, 1011)\n",
      "['\\\\(0019,SIEMENS MR HEADER.*,11\\\\)', '\\\\(0019,SIEMENS CSA HEADER.*,11\\\\)', '\\\\(0019,SIEMENS MEDCOM HEADER2.*,11\\\\)', '\\\\(0019,UCSF BIRP PRIVATE CREATOR 011710XX.*,11\\\\)', '\\\\(0019,NetRAAD.*,11\\\\)', '\\\\(0019,.*,11\\\\)']\n",
      "------------------\n",
      "(0019, 1012)\n",
      "['\\\\(0019,SIEMENS MR HEADER.*,12\\\\)', '\\\\(0019,SIEMENS CSA HEADER.*,12\\\\)', '\\\\(0019,SIEMENS MEDCOM HEADER2.*,12\\\\)', '\\\\(0019,UCSF BIRP PRIVATE CREATOR 011710XX.*,12\\\\)', '\\\\(0019,NetRAAD.*,12\\\\)', '\\\\(0019,.*,12\\\\)']\n",
      "------------------\n",
      "(0019, 1013)\n",
      "['\\\\(0019,SIEMENS MR HEADER.*,13\\\\)', '\\\\(0019,SIEMENS CSA HEADER.*,13\\\\)', '\\\\(0019,SIEMENS MEDCOM HEADER2.*,13\\\\)', '\\\\(0019,UCSF BIRP PRIVATE CREATOR 011710XX.*,13\\\\)', '\\\\(0019,NetRAAD.*,13\\\\)', '\\\\(0019,.*,13\\\\)']\n",
      "------------------\n",
      "(0019, 1014)\n",
      "['\\\\(0019,SIEMENS MR HEADER.*,14\\\\)', '\\\\(0019,SIEMENS CSA HEADER.*,14\\\\)', '\\\\(0019,SIEMENS MEDCOM HEADER2.*,14\\\\)', '\\\\(0019,UCSF BIRP PRIVATE CREATOR 011710XX.*,14\\\\)', '\\\\(0019,NetRAAD.*,14\\\\)', '\\\\(0019,.*,14\\\\)']\n",
      "------------------\n",
      "(0019, 1015)\n",
      "['\\\\(0019,SIEMENS MR HEADER.*,15\\\\)', '\\\\(0019,SIEMENS CSA HEADER.*,15\\\\)', '\\\\(0019,SIEMENS MEDCOM HEADER2.*,15\\\\)', '\\\\(0019,UCSF BIRP PRIVATE CREATOR 011710XX.*,15\\\\)', '\\\\(0019,NetRAAD.*,15\\\\)', '\\\\(0019,.*,15\\\\)']\n",
      "------------------\n",
      "(0019, 1016)\n",
      "['\\\\(0019,SIEMENS MR HEADER.*,16\\\\)', '\\\\(0019,SIEMENS CSA HEADER.*,16\\\\)', '\\\\(0019,SIEMENS MEDCOM HEADER2.*,16\\\\)', '\\\\(0019,UCSF BIRP PRIVATE CREATOR 011710XX.*,16\\\\)', '\\\\(0019,NetRAAD.*,16\\\\)', '\\\\(0019,.*,16\\\\)']\n",
      "------------------\n",
      "(0019, 1017)\n",
      "['\\\\(0019,SIEMENS MR HEADER.*,17\\\\)', '\\\\(0019,SIEMENS CSA HEADER.*,17\\\\)', '\\\\(0019,SIEMENS MEDCOM HEADER2.*,17\\\\)', '\\\\(0019,UCSF BIRP PRIVATE CREATOR 011710XX.*,17\\\\)', '\\\\(0019,NetRAAD.*,17\\\\)', '\\\\(0019,.*,17\\\\)']\n",
      "------------------\n",
      "(0019, 1018)\n",
      "['\\\\(0019,SIEMENS MR HEADER.*,18\\\\)', '\\\\(0019,SIEMENS CSA HEADER.*,18\\\\)', '\\\\(0019,SIEMENS MEDCOM HEADER2.*,18\\\\)', '\\\\(0019,UCSF BIRP PRIVATE CREATOR 011710XX.*,18\\\\)', '\\\\(0019,NetRAAD.*,18\\\\)', '\\\\(0019,.*,18\\\\)']\n",
      "------------------\n",
      "(0019, 1028)\n",
      "['\\\\(0019,SIEMENS MR HEADER.*,28\\\\)', '\\\\(0019,SIEMENS CSA HEADER.*,28\\\\)', '\\\\(0019,SIEMENS MEDCOM HEADER2.*,28\\\\)', '\\\\(0019,UCSF BIRP PRIVATE CREATOR 011710XX.*,28\\\\)', '\\\\(0019,NetRAAD.*,28\\\\)', '\\\\(0019,.*,28\\\\)']\n",
      "------------------\n",
      "(0029, 0010)\n",
      "['\\\\(0029,SIEMENS MR HEADER.*,10\\\\)', '\\\\(0029,SIEMENS CSA HEADER.*,10\\\\)', '\\\\(0029,SIEMENS MEDCOM HEADER2.*,10\\\\)', '\\\\(0029,UCSF BIRP PRIVATE CREATOR 011710XX.*,10\\\\)', '\\\\(0029,NetRAAD.*,10\\\\)', '\\\\(0029,.*,10\\\\)']\n",
      "------------------\n",
      "(0029, 0011)\n",
      "['\\\\(0029,SIEMENS MR HEADER.*,11\\\\)', '\\\\(0029,SIEMENS CSA HEADER.*,11\\\\)', '\\\\(0029,SIEMENS MEDCOM HEADER2.*,11\\\\)', '\\\\(0029,UCSF BIRP PRIVATE CREATOR 011710XX.*,11\\\\)', '\\\\(0029,NetRAAD.*,11\\\\)', '\\\\(0029,.*,11\\\\)']\n",
      "------------------\n",
      "(0029, 1160)\n",
      "['\\\\(0029,SIEMENS MR HEADER.*,60\\\\)', '\\\\(0029,SIEMENS CSA HEADER.*,60\\\\)', '\\\\(0029,SIEMENS MEDCOM HEADER2.*,60\\\\)', '\\\\(0029,UCSF BIRP PRIVATE CREATOR 011710XX.*,60\\\\)', '\\\\(0029,NetRAAD.*,60\\\\)', '\\\\(0029,.*,60\\\\)']\n",
      "------------------\n",
      "(0051, 0010)\n",
      "['\\\\(0051,SIEMENS MR HEADER.*,10\\\\)', '\\\\(0051,SIEMENS CSA HEADER.*,10\\\\)', '\\\\(0051,SIEMENS MEDCOM HEADER2.*,10\\\\)', '\\\\(0051,UCSF BIRP PRIVATE CREATOR 011710XX.*,10\\\\)', '\\\\(0051,NetRAAD.*,10\\\\)', '\\\\(0051,.*,10\\\\)']\n",
      "------------------\n",
      "(0117, 0010)\n",
      "['\\\\(0117,SIEMENS MR HEADER.*,10\\\\)', '\\\\(0117,SIEMENS CSA HEADER.*,10\\\\)', '\\\\(0117,SIEMENS MEDCOM HEADER2.*,10\\\\)', '\\\\(0117,UCSF BIRP PRIVATE CREATOR 011710XX.*,10\\\\)', '\\\\(0117,NetRAAD.*,10\\\\)', '\\\\(0117,.*,10\\\\)']\n",
      "------------------\n",
      "(0117, 0010)\n",
      "\\(0117,SIEMENS MR HEADER.*,10\\) 0\n",
      "\\(0117,SIEMENS CSA HEADER.*,10\\) 0\n",
      "\\(0117,SIEMENS MEDCOM HEADER2.*,10\\) 0\n",
      "\\(0117,UCSF BIRP PRIVATE CREATOR 011710XX.*,10\\) 0\n",
      "\\(0117,NetRAAD.*,10\\) 0\n",
      "\\(0117,.*,10\\) 3\n",
      "(0117, 1024) Private tag data                    SQ: <Sequence, length 1>\n",
      "[]\n",
      "------------------\n",
      "(0117, 10c4)\n",
      "\\(0117,SIEMENS MR HEADER.*,c4\\) 0\n",
      "\\(0117,SIEMENS CSA HEADER.*,c4\\) 0\n",
      "\\(0117,SIEMENS MEDCOM HEADER2.*,c4\\) 0\n",
      "\\(0117,UCSF BIRP PRIVATE CREATOR 011710XX.*,c4\\) 1\n",
      "\\(0117,NetRAAD.*,c4\\) 0\n",
      "\\(0117,.*,c4\\) 3\n",
      "(0117, 1024) Private tag data                    SQ: <Sequence, length 1>\n",
      "[]\n",
      "------------------\n",
      "(0137, 0050)\n",
      "['\\\\(0137,SIEMENS MR HEADER.*,50\\\\)', '\\\\(0137,SIEMENS CSA HEADER.*,50\\\\)', '\\\\(0137,SIEMENS MEDCOM HEADER2.*,50\\\\)', '\\\\(0137,UCSF BIRP PRIVATE CREATOR 011710XX.*,50\\\\)', '\\\\(0137,NetRAAD.*,50\\\\)', '\\\\(0137,.*,50\\\\)']\n",
      "------------------\n"
     ]
    }
   ],
   "source": [
    "traverse_dataset(dataset)"
   ]
  },
  {
   "cell_type": "code",
   "execution_count": null,
   "id": "751a666a-b515-4de5-a231-e1841a9998e8",
   "metadata": {},
   "outputs": [],
   "source": []
  },
  {
   "cell_type": "code",
   "execution_count": null,
   "id": "b5c2c74f-5c97-4655-8faa-78d76067f3d0",
   "metadata": {},
   "outputs": [],
   "source": []
  }
 ],
 "metadata": {
  "kernelspec": {
   "display_name": "dcm-deid",
   "language": "python",
   "name": "dcm-deid"
  },
  "language_info": {
   "codemirror_mode": {
    "name": "ipython",
    "version": 3
   },
   "file_extension": ".py",
   "mimetype": "text/x-python",
   "name": "python",
   "nbconvert_exporter": "python",
   "pygments_lexer": "ipython3",
   "version": "3.12.0"
  }
 },
 "nbformat": 4,
 "nbformat_minor": 5
}
