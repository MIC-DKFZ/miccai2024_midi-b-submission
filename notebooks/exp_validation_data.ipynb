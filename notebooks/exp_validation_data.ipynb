{
 "cells": [
  {
   "cell_type": "code",
   "execution_count": 1,
   "id": "05f09fd2-bf5b-4370-afb9-7dac1632ca16",
   "metadata": {},
   "outputs": [],
   "source": [
    "import sys\n",
    "import csv\n",
    "import os\n",
    "# setting path\n",
    "sys.path.append('../')\n",
    "\n",
    "from utils.display import display_pixel_arry\n",
    "\n",
    "from dcm_anonymizers.img_anonymizers import DCMImageAnonymizer\n",
    "# from dcm_anonymizers.phi_detectors import DcmRobustPHIDetector\n",
    "\n",
    "from pydicom import dcmread\n",
    "\n",
    "from pathlib import Path"
   ]
  },
  {
   "cell_type": "code",
   "execution_count": 2,
   "id": "6e619e59-9cdd-4916-95f0-611bc841bea1",
   "metadata": {},
   "outputs": [],
   "source": [
    "def get_subdirs_with_files(base_path):\n",
    "    subdirs_with_files = []\n",
    "    \n",
    "    # Walk through each directory in the specified path\n",
    "    for root, dirs, files in os.walk(base_path):\n",
    "        if files:  # Check if the current directory contains any files\n",
    "            subdirs_with_files.append(root)\n",
    "    \n",
    "    return subdirs_with_files"
   ]
  },
  {
   "cell_type": "code",
   "execution_count": 50,
   "id": "7361ebe6-0828-478f-af0b-5e60eba417a2",
   "metadata": {},
   "outputs": [],
   "source": [
    "output_patient_id = \"Pseudo-PHI-072\"\n",
    "series_idx = 3\n",
    "dcm_filename = \"00000039.dcm\""
   ]
  },
  {
   "cell_type": "code",
   "execution_count": 51,
   "id": "741afbad-c87c-448f-b1eb-f9a01241e6a3",
   "metadata": {},
   "outputs": [],
   "source": [
    "validation_data_path = \"/home/r079a/Desktop/de-identification/dataset/midi-validation-data\"\n",
    "\n",
    "patient_mapping_path = Path(validation_data_path, 'output_data_tcia_private_tags_06_untested/mappings/patient_id_mapping.csv')\n",
    "\n",
    "patient_mapping = {}\n",
    "with open(patient_mapping_path, mode='r') as infile:\n",
    "    reader = csv.reader(infile)\n",
    "    next(reader, None)  # skip the headers\n",
    "    patient_mapping = {rows[1]:rows[0] for rows in reader}\n",
    "\n",
    "input_data_root = Path(validation_data_path, 'input_data')\n",
    "\n",
    "target_patient_path = input_data_root / patient_mapping[output_patient_id]\n",
    "\n",
    "all_series_paths = get_subdirs_with_files(target_patient_path)"
   ]
  },
  {
   "cell_type": "code",
   "execution_count": 52,
   "id": "dd082ca1-df3b-4a52-99ca-a4bc7934f286",
   "metadata": {
    "scrolled": true
   },
   "outputs": [
    {
     "name": "stdout",
     "output_type": "stream",
     "text": [
      "/home/r079a/Desktop/de-identification/dataset/midi-validation-data/input_data/8371727310/3.1.755.1.3.3756213.9.632.3767770174295087735/3.1.755.1.3.3756213.9.632.2879562198953027365/00000039.dcm\n"
     ]
    }
   ],
   "source": [
    "\n",
    "sample_dicom = os.path.join(all_series_paths[series_idx], dcm_filename)\n",
    "\n",
    "# Following one is important to traverse sequences\n",
    "# sample_dicom = Path(validation_data_path, 'input_data/8571931193/1.4.860.1.0.6050381.6.464.2117248485162392317/1.4.860.1.0.6050381.6.464.1304159448982591337/00000001.dcm')\n",
    "\n",
    "\n",
    "# sample_dicom = Path(validation_data_path, 'output_data/data/Pseudo-PHI-002/1.2.826.0.1.3680043.8.498.10746498679825505398104660274302695275/1.2.826.0.1.3680043.8.498.88870736155561815812592063497284637934/00000105.dcm')\n",
    "\n",
    "# sample_dicom = Path(validation_data_path, 'input_data/2951928526/2.1.846.0.0.0624952.3.426.1171423858789191618/2.1.846.0.0.0624952.3.426.4666769529569841014/00000001.dcm')\n",
    "\n",
    "# sample_dicom = \"/home/r079a/Downloads/input_data/input_data/8172202354/3.4.823.0.1.5139398.5.009.3225903761765232034/3.4.823.0.1.5139398.5.009.2213188170240812441/00000105.dcm\"\n",
    "\n",
    "print(sample_dicom)"
   ]
  },
  {
   "cell_type": "code",
   "execution_count": 53,
   "id": "47cdf271-4b5c-407e-a125-c61a65a0c59f",
   "metadata": {},
   "outputs": [],
   "source": [
    "dataset = dcmread(sample_dicom)"
   ]
  },
  {
   "cell_type": "code",
   "execution_count": 54,
   "id": "05e35140-704c-4606-a55d-76af31f66293",
   "metadata": {},
   "outputs": [],
   "source": [
    "pixel_data = dataset.get(\"pixel_array\")"
   ]
  },
  {
   "cell_type": "code",
   "execution_count": 55,
   "id": "02e1e58c-ac1c-47e8-b6ac-72dfa3cd8669",
   "metadata": {},
   "outputs": [
    {
     "name": "stdout",
     "output_type": "stream",
     "text": [
      "True\n"
     ]
    }
   ],
   "source": [
    "print(\"PixelData\" in dataset)"
   ]
  },
  {
   "cell_type": "code",
   "execution_count": 56,
   "id": "8bbc23a1-ea7c-4838-9019-eb480c72bd99",
   "metadata": {},
   "outputs": [
    {
     "name": "stdout",
     "output_type": "stream",
     "text": [
      "Dataset.file_meta -------------------------------\n",
      "(0002, 0000) File Meta Information Group Length  UL: 178\n",
      "(0002, 0001) File Meta Information Version       OB: b'\\x00\\x01'\n",
      "(0002, 0002) Media Storage SOP Class UID         UI: Secondary Capture Image Storage\n",
      "(0002, 0003) Media Storage SOP Instance UID      UI: 3.1.755.1.3.3756213.9.632.5167360340924479751\n",
      "(0002, 0010) Transfer Syntax UID                 UI: Explicit VR Little Endian\n",
      "(0002, 0012) Implementation Class UID            UI: 1.2.40.0.13.1.1.1\n",
      "(0002, 0013) Implementation Version Name         SH: 'dcm4che-1.4.35'\n",
      "-------------------------------------------------\n",
      "(0008, 0005) Specific Character Set              CS: 'ISO_IR 100'\n",
      "(0008, 0008) Image Type                          CS: ['DERIVED', 'SECONDARY', 'MPR']\n",
      "(0008, 0012) Instance Creation Date              DA: '20151225'\n",
      "(0008, 0013) Instance Creation Time              TM: '081635'\n",
      "(0008, 0016) SOP Class UID                       UI: Secondary Capture Image Storage\n",
      "(0008, 0018) SOP Instance UID                    UI: 3.1.755.1.3.3756213.9.632.5167360340924479751\n",
      "(0008, 0020) Study Date                          DA: '20151225'\n",
      "(0008, 0021) Series Date                         DA: '20151225'\n",
      "(0008, 0022) Acquisition Date                    DA: '20151225'\n",
      "(0008, 0023) Content Date                        DA: '20151225'\n",
      "(0008, 002a) Acquisition DateTime                DT: ''\n",
      "(0008, 0030) Study Time                          TM: '081635'\n",
      "(0008, 0032) Acquisition Time                    TM: '081745'\n",
      "(0008, 0033) Content Time                        TM: '081635'\n",
      "(0008, 0050) Accession Number                    SH: '722B7604'\n",
      "(0008, 0054) Retrieve AE Title                   AE: 'WHOTMM3367X8'\n",
      "(0008, 0060) Modality                            CS: 'CT'\n",
      "(0008, 0064) Conversion Type                     CS: 'WSD'\n",
      "(0008, 0070) Manufacturer                        LO: 'Philips Medical Systems'\n",
      "(0008, 0080) Institution Name                    LO: 'Compton, Holmes and Jones Hospital'\n",
      "(0008, 0081) Institution Address                 ST: '1820 S Villas Ln Chandler, AZ 85286'\n",
      "(0008, 0090) Referring Physician's Name          PN: 'HICKS^PAUL'\n",
      "(0008, 1010) Station Name                        SH: ''\n",
      "(0008, 1030) Study Description                   LO: 'PET-CT STUDY for Amy Wilson'\n",
      "(0008, 103e) Series Description                  LO: 'PET-CT SERIES for Amy Wilson'\n",
      "(0008, 1048) Physician(s) of Record              PN: 'HICKS^PAUL'\n",
      "(0008, 1050) Performing Physician's Name         PN: 'JONES^CYNTHIA'\n",
      "(0008, 1070) Operators' Name                     PN: 'SALINAS^JONATHAN'\n",
      "(0008, 1090) Manufacturer's Model Name           LO: 'GEMINI TF Big Bore'\n",
      "(0008, 1110)  Referenced Study Sequence  0 item(s) ---- \n",
      "(0008, 1111)  Referenced Performed Procedure Step Sequence  1 item(s) ---- \n",
      "   (0008, 1150) Referenced SOP Class UID            UI: Modality Performed Procedure Step SOP Class\n",
      "   (0008, 1155) Referenced SOP Instance UID         UI: 3.1.755.1.3.3756213.9.632.2936742109197398459\n",
      "   ---------\n",
      "(0008, 1120)  Referenced Patient Sequence  0 item(s) ---- \n",
      "(0008, 1140)  Referenced Image Sequence  1 item(s) ---- \n",
      "   (0008, 1150) Referenced SOP Class UID            UI: CT Image Storage\n",
      "   (0008, 1155) Referenced SOP Instance UID         UI: 3.1.755.1.3.3756213.9.632.1597287086640527900\n",
      "   ---------\n",
      "(0010, 0010) Patient's Name                      PN: 'WILSON^AMY'\n",
      "(0010, 0020) Patient ID                          LO: '8371727310'\n",
      "(0010, 0030) Patient's Birth Date                DA: '19811129'\n",
      "(0010, 0040) Patient's Sex                       CS: 'F'\n",
      "(0010, 1000) Other Patient IDs                   LO: '096-74-4054'\n",
      "(0010, 1010) Patient's Age                       AS: '034Y'\n",
      "(0010, 1020) Patient's Size                      DS: '1.71'\n",
      "(0010, 1030) Patient's Weight                    DS: '73.503'\n",
      "(0010, 1040) Patient's Address                   LO: '2093 E Kesler Ln Chandler, AZ 85225'\n",
      "(0010, 2000) Medical Alerts                      LO: 'Ordered for 8371727310 by PH'\n",
      "(0010, 2160) Ethnic Group                        SH: 'Black'\n",
      "(0010, 21b0) Additional Patient History          LT: Array of 36 elements\n",
      "(0010, 4000) Patient Comments                    LT: Array of 61 elements\n",
      "(0012, 0050) Clinical Trial Time Point ID        LO: '-4'\n",
      "(0012, 0051) Clinical Trial Time Point Descripti ST: 'Days offset from diagnosis'\n",
      "(0018, 0015) Body Part Examined                  CS: 'BREAST'\n",
      "(0018, 0050) Slice Thickness                     DS: '4.0'\n",
      "(0018, 1012) Date of Secondary Capture           DA: '20151225'\n",
      "(0018, 1014) Time of Secondary Capture           TM: '111125.875'\n",
      "(0018, 1016) Secondary Capture Device Manufactur LO: 'PHILIPS'\n",
      "(0018, 1018) Secondary Capture Device Manufactur LO: 'EBW3'\n",
      "(0018, 1019) Secondary Capture Device Software V LO: '4.0.2.140'\n",
      "(0018, 1020) Software Versions                   LO: ''\n",
      "(0018, 1030) Protocol Name                       LO: 'Ordered for Amy Wilson by Dr. Hicks'\n",
      "(0018, 5100) Patient Position                    CS: 'HFS'\n",
      "(0018, a001)  Contributing Equipment Sequence  1 item(s) ---- \n",
      "   (0008, 0070) Manufacturer                        LO: 'PHILIPS'\n",
      "   (0008, 0080) Institution Name                    LO: 'Compton, Holmes and Jones Hospital'\n",
      "   (0008, 0081) Institution Address                 ST: '1820 S Villas Ln Chandler, AZ 85286'\n",
      "   (0008, 1010) Station Name                        SH: 'HOST-7006'\n",
      "   (0008, 1040) Institutional Department Name       LO: '...'\n",
      "   (0008, 1090) Manufacturer's Model Name           LO: 'EBW4'\n",
      "   (0018, 1000) Device Serial Number                LO: 'DJZYCA2URTBN0'\n",
      "   (0018, 1020) Software Versions                   LO: '4.0.2.140'\n",
      "   (0040, a170)  Purpose of Reference Code Sequence  1 item(s) ---- \n",
      "      (0008, 0100) Code Value                          SH: '109102'\n",
      "      (0008, 0102) Coding Scheme Designator            SH: 'DCM'\n",
      "      (0008, 0104) Code Meaning                        LO: 'Processing Equipment'\n",
      "      ---------\n",
      "   ---------\n",
      "(0020, 000d) Study Instance UID                  UI: 3.1.755.1.3.3756213.9.632.3767770174295087735\n",
      "(0020, 000e) Series Instance UID                 UI: 3.1.755.1.3.3756213.9.632.2879562198953027365\n",
      "(0020, 0010) Study ID                            SH: '345678'\n",
      "(0020, 0011) Series Number                       IS: '20151225'\n",
      "(0020, 0012) Acquisition Number                  IS: None\n",
      "(0020, 0013) Instance Number                     IS: '25'\n",
      "(0020, 0020) Patient Orientation                 CS: ''\n",
      "(0020, 0032) Image Position (Patient)            DS: [-300.0, -230.0, -146.5002]\n",
      "(0020, 0037) Image Orientation (Patient)         DS: [1.0, 0.0, 0.0, 0.0, 1.0, 0.0]\n",
      "(0020, 0052) Frame of Reference UID              UI: 3.1.755.1.3.3756213.9.632.2651306048445902475\n",
      "(0020, 0060) Laterality                          CS: ''\n",
      "(0020, 1041) Slice Location                      DS: '-146.5002'\n",
      "(0028, 0002) Samples per Pixel                   US: 1\n",
      "(0028, 0004) Photometric Interpretation          CS: 'MONOCHROME2'\n",
      "(0028, 0010) Rows                                US: 512\n",
      "(0028, 0011) Columns                             US: 512\n",
      "(0028, 0030) Pixel Spacing                       DS: [1.171875, 1.171875]\n",
      "(0028, 0100) Bits Allocated                      US: 16\n",
      "(0028, 0101) Bits Stored                         US: 12\n",
      "(0028, 0102) High Bit                            US: 11\n",
      "(0028, 0103) Pixel Representation                US: 0\n",
      "(0028, 0301) Burned In Annotation                CS: 'NO'\n",
      "(0028, 0303) Longitudinal Temporal Information M CS: 'MODIFIED'\n",
      "(0028, 1050) Window Center                       DS: [35.0, 35.0]\n",
      "(0028, 1051) Window Width                        DS: [350.0, 350.0]\n",
      "(0028, 1052) Rescale Intercept                   DS: '-1024.0'\n",
      "(0028, 1053) Rescale Slope                       DS: '1.0'\n",
      "(0028, 1054) Rescale Type                        LO: 'HU'\n",
      "(0032, 1060) Requested Procedure Description     LO: 'Performed at CHAJH'\n",
      "(0032, 4000) Study Comments                      LT: Array of 58 elements\n",
      "(0054, 1001) Units                               CS: 'HU'\n",
      "(00e1, 0010) Private Creator                     LO: 'ELSCINT1'\n",
      "(07a1, 0010) Private Creator                     LO: 'ELSCINT1'\n",
      "(7fe0, 0010) Pixel Data                          OW: Array of 524288 elements\n"
     ]
    }
   ],
   "source": [
    "print(dataset)"
   ]
  },
  {
   "cell_type": "code",
   "execution_count": 21,
   "id": "ceee7651-b3c2-461d-be9a-1a0c8085065a",
   "metadata": {},
   "outputs": [
    {
     "data": {
      "text/plain": [
       "(0020, 0011) Series Number                       IS: '1899617'"
      ]
     },
     "execution_count": 21,
     "metadata": {},
     "output_type": "execute_result"
    }
   ],
   "source": [
    "target_tag = (0x0020, 0x0011)\n",
    "elem = dataset.get(target_tag)\n",
    "\n",
    "elem.value = '1899617'\n",
    "\n",
    "elem = dataset.get(target_tag)\n",
    "\n",
    "elem"
   ]
  },
  {
   "cell_type": "code",
   "execution_count": null,
   "id": "d973c66c-2a6a-4f43-a794-639baf8f778f",
   "metadata": {},
   "outputs": [],
   "source": [
    "# print(pixel_data[0].shape)"
   ]
  },
  {
   "cell_type": "code",
   "execution_count": null,
   "id": "48526aad-46b6-41ce-91de-a55af6f425e0",
   "metadata": {},
   "outputs": [],
   "source": [
    "# display_pixel_arry(pixel_data[0])"
   ]
  },
  {
   "cell_type": "code",
   "execution_count": null,
   "id": "ab697de7-f000-4ad3-bd3b-445565e6e7c5",
   "metadata": {},
   "outputs": [],
   "source": [
    "# detector = DcmRobustPHIDetector()"
   ]
  },
  {
   "cell_type": "code",
   "execution_count": null,
   "id": "a3776e67-925d-4053-bc9a-fb8e105d43ca",
   "metadata": {},
   "outputs": [],
   "source": [
    "# imganonymizer = DCMImageAnonymizer(phi_detector=detector)"
   ]
  },
  {
   "cell_type": "code",
   "execution_count": null,
   "id": "1520cd75-d326-44d9-ba58-9c9b86296608",
   "metadata": {},
   "outputs": [],
   "source": [
    "# updated = imganonymizer.anonymize_dicom_image_data(dataset)"
   ]
  },
  {
   "cell_type": "code",
   "execution_count": null,
   "id": "5655d347-d154-4460-a21b-ce68f77ddbea",
   "metadata": {},
   "outputs": [],
   "source": [
    "# updated"
   ]
  },
  {
   "cell_type": "code",
   "execution_count": null,
   "id": "fdbc92d0-6ca4-496f-8e17-529ed1fc113f",
   "metadata": {},
   "outputs": [],
   "source": [
    "import pydicom\n",
    "from pydicom.dataset import Dataset, DataElement\n",
    "from pydicom.sequence import Sequence\n",
    "\n",
    "from dcm_anonymizers.private_tags_extractor import PrivateTagsExtractor"
   ]
  },
  {
   "cell_type": "code",
   "execution_count": null,
   "id": "d15adf19-7ecf-4386-8b76-ecec8134690e",
   "metadata": {},
   "outputs": [],
   "source": [
    "ptags_dict = PrivateTagsExtractor('../docs/TCIAPrivateTagKB-02-01-2024-formatted.csv')"
   ]
  },
  {
   "cell_type": "code",
   "execution_count": null,
   "id": "90863e13-119d-4705-b1d1-f224aec5b14a",
   "metadata": {},
   "outputs": [],
   "source": [
    "def extract_private_groups_n_creators(dataset):\n",
    "    creators = []\n",
    "    groups = []\n",
    "    for element in dataset:\n",
    "        if element.VR == 'OW':\n",
    "            continue\n",
    "        if element.tag.is_private:\n",
    "            groups.append(f\"{element.tag.group:04x}\")\n",
    "            if element.name == 'Private Creator' and element.value not in creators:                \n",
    "                creators.append(element.value)\n",
    "\n",
    "    groups = list(set(groups))\n",
    "\n",
    "    return groups, creators"
   ]
  },
  {
   "cell_type": "code",
   "execution_count": null,
   "id": "16e1a261-71eb-4d16-a0da-2bcae84f1cd4",
   "metadata": {},
   "outputs": [],
   "source": [
    "# groups, creators = extract_private_groups_n_creators(dataset)\n",
    "\n",
    "# print(groups)\n",
    "# print(creators)"
   ]
  },
  {
   "cell_type": "code",
   "execution_count": null,
   "id": "45e08270-2597-4c2e-812c-79b735fd4db4",
   "metadata": {},
   "outputs": [],
   "source": [
    "# def create_pattents_from_element(element, parent_elements: list[DataElement]):\n",
    "#     patterns = []\n",
    "#     if len(parent_elements) == 0:\n",
    "#         patterns = ptags_dict.search_patterns_from_element(element, creators)\n",
    "#     else:\n",
    "#         element_pattens = ptags_dict.search_patterns_from_element(element, creators)\n",
    "#         for pttrn in element_pattens:\n",
    "#             filtered_rows = ptags_dict.filter_by_pattern_n_vr(pttrn, element.VR)\n",
    "#             print(pttrn, len(filtered_rows))                                                         \n",
    "                                                              \n",
    "#         for pe in parent_elements:\n",
    "#             print(pe)\n",
    "\n",
    "#     return patterns\n",
    "\n",
    "# def traverse_dataset(dataset, parent_elements=[], is_root=True):\n",
    "#     for elem in dataset:\n",
    "#         tag = elem.tag\n",
    "#         VR = elem.VR\n",
    "#         value = elem.value\n",
    "#         name = elem.name\n",
    "\n",
    "#         # Check if the root element is private\n",
    "#         if is_root:\n",
    "#             if not elem.tag.is_private:\n",
    "#                 continue\n",
    "        \n",
    "#         # Process the element\n",
    "#         if isinstance(value, Sequence):\n",
    "#             # If the value is a Sequence, recursively traverse each Dataset in the Sequence\n",
    "#             # print(f\"Sequence: {name} (Tag: {tag})\")\n",
    "#             updated_parent_elements = parent_elements.copy()\n",
    "#             updated_parent_elements.append(elem)\n",
    "#             for i, item in enumerate(value):\n",
    "#                 # print(f\"  Item {i} (Parent: {name})\")\n",
    "#                 traverse_dataset(item, parent_elements=updated_parent_elements, is_root=False)\n",
    "#         else:\n",
    "#             # process the data element\n",
    "#             print(elem.tag)\n",
    "#             patterns = create_pattents_from_element(elem, parent_elements)\n",
    "#             print(patterns)\n",
    "#             print(\"------------------\")"
   ]
  },
  {
   "cell_type": "code",
   "execution_count": null,
   "id": "8240b05c-9398-4e2b-8c81-d1f270c70adf",
   "metadata": {},
   "outputs": [],
   "source": [
    "# traverse_dataset(dataset)"
   ]
  },
  {
   "cell_type": "markdown",
   "id": "299ca618-fb8e-4d99-b202-f3e71ed62844",
   "metadata": {},
   "source": [
    "### Test the Anonymizer on the Validation Data"
   ]
  },
  {
   "cell_type": "code",
   "execution_count": null,
   "id": "b5c2c74f-5c97-4655-8faa-78d76067f3d0",
   "metadata": {},
   "outputs": [],
   "source": [
    "from dcm_anonymizers.phi_detectors import DcmPHIDetector, DcmRobustPHIDetector\n",
    "from dcm_anonymizers.tcia_deid import DCMTCIAAnonymizer\n",
    "from dcm_anonymizers.private_tags_extractor import PrivateTagsExtractorV2"
   ]
  },
  {
   "cell_type": "code",
   "execution_count": null,
   "id": "302807a1-ecc6-469c-b039-997989101d22",
   "metadata": {},
   "outputs": [],
   "source": [
    "PRIVATE_TAGS_DICT = '../dcm_anonymizers/tcia_private_tags_dict.json'\n",
    "\n",
    "# initialize model\n",
    "phi_detector = DcmRobustPHIDetector(logging = True)\n",
    "ptags_extr = PrivateTagsExtractorV2(\n",
    "    private_tags_dict_path=PRIVATE_TAGS_DICT\n",
    ")"
   ]
  },
  {
   "cell_type": "code",
   "execution_count": null,
   "id": "2f388e42-e79c-4172-86e6-de462f15eb0d",
   "metadata": {},
   "outputs": [],
   "source": [
    "anonymizer = DCMTCIAAnonymizer(\n",
    "    phi_detector=None,\n",
    "    notes_phi_detector=phi_detector,\n",
    "    soft_detection=True,\n",
    "    private_tags_extractor=ptags_extr,\n",
    "    rules_json_path=\"../dcm_anonymizers/tcia_deid_attrs.json\"\n",
    ")"
   ]
  },
  {
   "cell_type": "code",
   "execution_count": null,
   "id": "47b24ea2-cc5c-4ed4-97b4-de3c121128bf",
   "metadata": {
    "scrolled": true
   },
   "outputs": [],
   "source": [
    "anonymizer.anonymize_dataset(dataset)"
   ]
  },
  {
   "cell_type": "code",
   "execution_count": null,
   "id": "9264fe33-22eb-4e8d-9f26-a2393d751d61",
   "metadata": {},
   "outputs": [],
   "source": [
    "phi_detector.missed_by_whitelist"
   ]
  },
  {
   "cell_type": "code",
   "execution_count": null,
   "id": "7b6d4e86-2f6c-4eda-8ad1-b0d4878a507c",
   "metadata": {},
   "outputs": [],
   "source": [
    "print(dataset)"
   ]
  },
  {
   "cell_type": "code",
   "execution_count": null,
   "id": "e6f97f88-198f-4e1e-9d71-641798af6da1",
   "metadata": {},
   "outputs": [],
   "source": [
    "anonymizer.history"
   ]
  },
  {
   "cell_type": "markdown",
   "id": "6d7196d4-4416-488a-b0ed-213c720387df",
   "metadata": {},
   "source": [
    "Evaluation of the anonymization process complete\n",
    "=================================================\n",
    "Anonymization Closeness Score 99.159%\n",
    "=================================================\n",
    "Mismatched Tags Summary:\n",
    "--------------------------------------------\n",
    "        Acquisition Device Processing Description: 1 -> 4\n",
    "        Study Comments: 2 -> 4,16\n",
    "        [Image actual date]: 1 -> 5\n",
    "        [Product id]: 1 -> 6\n",
    "        [Pulse Sequence Date]: 1 -> 6\n",
    "        [Image from which prescribed]: 1 -> 6\n",
    "        [Screen Format]: 1 -> 6\n",
    "        [Vas collapse flag]: 1 -> 6\n",
    "        [Scanner Table Entry (single gradient coil systems only)/Scanner Table Entry + Gradient Coil Selected]: 1 -> 6\n",
    "        Patient State: 1 -> 10\n",
    "        Allergies: 3 -> 11,15,17\n",
    "        Reason for the Requested Procedure: 3 -> 11,15,17\n",
    "        Requested Procedure Comments: 3 -> 11,15,17\n",
    "        Reason for the Imaging Service Request: 3 -> 11,15,17\n",
    "        Acquisition DateTime: 1 -> 12\n",
    "        Study Description: 2 -> 13,14\n",
    "        Code Meaning: 2 -> 13,14\n",
    "        Protocol Name: 1 -> 13\n",
    "        Date of Last Calibration: 2 -> 13,16\n",
    "        Image Comments: 1 -> 13\n",
    "        Pixel Aspect Ratio: 1 -> 16\n",
    "        [GradientMode]: 1 -> 19\n",
    "        Comments on the Performed Procedure Step: 1 -> 19\n",
    "        Image Type: 1 -> 20\n",
    "        Planar Configuration: 1 -> 20\n",
    "        Private Creator: 1 -> 20\n",
    "        Series Description: 1 -> 23\n",
    "        Secondary Capture Device ID: 1 -> 24\n",
    "        Overlay Rows: 1 -> 24\n",
    "        Overlay Columns: 1 -> 24\n",
    "        Number of Frames in Overlay: 1 -> 24\n",
    "        Overlay Description: 1 -> 24\n",
    "        Overlay Type: 1 -> 24\n",
    "        Overlay Origin: 1 -> 24\n",
    "        Image Frame Origin: 1 -> 24\n",
    "        Overlay Bits Allocated: 1 -> 24\n",
    "        Overlay Bit Position: 1 -> 24\n",
    "---------------------------------------------"
   ]
  },
  {
   "cell_type": "code",
   "execution_count": null,
   "id": "3ea52dc9-da5b-4846-a2f9-ba6d84367c89",
   "metadata": {},
   "outputs": [],
   "source": []
  }
 ],
 "metadata": {
  "kernelspec": {
   "display_name": "dcm-deid",
   "language": "python",
   "name": "dcm-deid"
  },
  "language_info": {
   "codemirror_mode": {
    "name": "ipython",
    "version": 3
   },
   "file_extension": ".py",
   "mimetype": "text/x-python",
   "name": "python",
   "nbconvert_exporter": "python",
   "pygments_lexer": "ipython3",
   "version": "3.12.0"
  }
 },
 "nbformat": 4,
 "nbformat_minor": 5
}
