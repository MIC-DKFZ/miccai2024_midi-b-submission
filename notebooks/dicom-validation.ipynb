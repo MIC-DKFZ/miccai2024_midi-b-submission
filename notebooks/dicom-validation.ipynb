{
 "cells": [
  {
   "cell_type": "code",
   "execution_count": 1,
   "id": "4be810e8-4ead-4ac9-806d-831ad636349c",
   "metadata": {},
   "outputs": [],
   "source": [
    "import sys\n",
    "import csv\n",
    "import os\n",
    "# setting path\n",
    "sys.path.append('../')\n",
    "\n",
    "from dcm_validator.dciodvfy import DCIodValidator"
   ]
  },
  {
   "cell_type": "code",
   "execution_count": 2,
   "id": "06e2edf9-4286-492e-87cc-f22eb7c86c7d",
   "metadata": {},
   "outputs": [],
   "source": [
    "sample_dcm_path = \"/home/r079a/Desktop/de-identification/dataset/midi-validation-data/input_data/3363075481/3.2.144.1.2.0137535.6.683.1214942220616161257/3.2.144.1.2.0137535.6.683.2337113981393126883/00000098.dcm\""
   ]
  },
  {
   "cell_type": "code",
   "execution_count": 3,
   "id": "e004b3c8-bfd7-4faa-8a5b-d6e49d0bddd3",
   "metadata": {},
   "outputs": [],
   "source": [
    "validator = DCIodValidator()"
   ]
  },
  {
   "cell_type": "code",
   "execution_count": 4,
   "id": "d72fae8c-4a33-4cf2-b2a6-27b7e993e202",
   "metadata": {},
   "outputs": [],
   "source": [
    "errors, warnings = validator.validate_dicom(sample_dcm_path)"
   ]
  },
  {
   "cell_type": "code",
   "execution_count": 5,
   "id": "6c44837f-b002-4cd3-ae16-58c4497d6e06",
   "metadata": {},
   "outputs": [],
   "source": [
    "missing_attribute_errors = DCIodValidator.filter_missing_attributes_errors(errors)"
   ]
  },
  {
   "cell_type": "code",
   "execution_count": 6,
   "id": "5e675888-5201-4595-aa30-7e8654c01ed7",
   "metadata": {},
   "outputs": [
    {
     "name": "stdout",
     "output_type": "stream",
     "text": [
      "Error:\n",
      "Tag: (0008, 0100)\n",
      "Name: CodeValue\n",
      "Index: 1\n",
      "Parents: (0008, 1032)\n",
      "Message: Missing attribute for Type 1C Conditional\n",
      "Type: 1C\n",
      "Module: BasicCodeSequenceMacro\n",
      "Error:\n",
      "Tag: (0008, 0104)\n",
      "Name: CodeMeaning\n",
      "Index: 1\n",
      "Parents: (0008, 1032)\n",
      "Message: Missing attribute for Type 1 Required\n",
      "Type: 1\n",
      "Module: BasicCodeSequenceMacro\n",
      "Error:\n",
      "Tag: (0008, 0119)\n",
      "Name: LongCodeValue\n",
      "Index: 1\n",
      "Parents: (0008, 1032)\n",
      "Message: Missing attribute for Type 1C Conditional\n",
      "Type: 1C\n",
      "Module: BasicCodeSequenceMacro\n",
      "Error:\n",
      "Tag: (0008, 0120)\n",
      "Name: URNCodeValue\n",
      "Index: 1\n",
      "Parents: (0008, 1032)\n",
      "Message: Missing attribute for Type 1C Conditional\n",
      "Type: 1C\n",
      "Module: BasicCodeSequenceMacro\n",
      "Error:\n",
      "Tag: (0020, 0060)\n",
      "Name: Laterality\n",
      "Index: 0\n",
      "Message: Missing attribute for Type 2C Conditional\n",
      "Type: 2C\n",
      "Module: GeneralSeries\n",
      "Error:\n",
      "Tag: (0020, 1040)\n",
      "Name: PositionReferenceIndicator\n",
      "Index: 0\n",
      "Message: Missing attribute for Type 2 Required\n",
      "Type: 2\n",
      "Module: FrameOfReference\n"
     ]
    }
   ],
   "source": [
    "for err in missing_attribute_errors:\n",
    "    print(err)"
   ]
  },
  {
   "cell_type": "code",
   "execution_count": 7,
   "id": "638bf6b9-9738-454a-935c-98ec63647a0a",
   "metadata": {},
   "outputs": [],
   "source": [
    "import pydicom\n",
    "from pydicom.datadict import dictionary_VR, keyword_for_tag"
   ]
  },
  {
   "cell_type": "code",
   "execution_count": 8,
   "id": "4fa02fbb-684f-48b9-b683-f9168888755f",
   "metadata": {},
   "outputs": [
    {
     "name": "stdout",
     "output_type": "stream",
     "text": [
      "CodeValue\n",
      "SH 1C\n",
      "CodeMeaning\n",
      "LO 1\n",
      "LongCodeValue\n",
      "UC 1C\n",
      "URNCodeValue\n",
      "UR 1C\n",
      "Laterality\n",
      "CS 2C\n",
      "PositionReferenceIndicator\n",
      "LO 2\n"
     ]
    }
   ],
   "source": [
    "for err in missing_attribute_errors:\n",
    "    print(err.name)\n",
    "    print(dictionary_VR(err.tag), err.missing_type)"
   ]
  },
  {
   "cell_type": "code",
   "execution_count": 9,
   "id": "de4e54c0-221f-43ff-a0e8-a76dbb601dee",
   "metadata": {},
   "outputs": [],
   "source": [
    "ds = pydicom.dcmread(sample_dcm_path)"
   ]
  },
  {
   "cell_type": "code",
   "execution_count": 10,
   "id": "21d49963-ce43-4c6e-a250-81e048d901cc",
   "metadata": {},
   "outputs": [
    {
     "name": "stderr",
     "output_type": "stream",
     "text": [
      "/home/r079a/Desktop/de-identification/repo/.venv/lib/python3.12/site-packages/pydicom/valuerep.py:443: UserWarning: Invalid value for VR UI: '3.2.144.1.2.0137535.6.683.1870795683468907250'. Please see <https://dicom.nema.org/medical/dicom/current/output/html/part05.html#table_6.2-1> for allowed values for each VR.\n",
      "  warnings.warn(msg)\n",
      "/home/r079a/Desktop/de-identification/repo/.venv/lib/python3.12/site-packages/pydicom/valuerep.py:443: UserWarning: Invalid value for VR UI: '3.2.144.1.2.0137535.6.683.1214942220616161257'. Please see <https://dicom.nema.org/medical/dicom/current/output/html/part05.html#table_6.2-1> for allowed values for each VR.\n",
      "  warnings.warn(msg)\n",
      "/home/r079a/Desktop/de-identification/repo/.venv/lib/python3.12/site-packages/pydicom/valuerep.py:443: UserWarning: Invalid value for VR UI: '3.2.144.1.2.0137535.6.683.2337113981393126883'. Please see <https://dicom.nema.org/medical/dicom/current/output/html/part05.html#table_6.2-1> for allowed values for each VR.\n",
      "  warnings.warn(msg)\n",
      "/home/r079a/Desktop/de-identification/repo/.venv/lib/python3.12/site-packages/pydicom/valuerep.py:443: UserWarning: Invalid value for VR UI: '3.2.144.1.2.0137535.6.683.6869163531165418898'. Please see <https://dicom.nema.org/medical/dicom/current/output/html/part05.html#table_6.2-1> for allowed values for each VR.\n",
      "  warnings.warn(msg)\n"
     ]
    },
    {
     "data": {
      "text/plain": [
       "Dataset.file_meta -------------------------------\n",
       "(0002, 0000) File Meta Information Group Length  UL: 178\n",
       "(0002, 0001) File Meta Information Version       OB: b'\\x00\\x01'\n",
       "(0002, 0002) Media Storage SOP Class UID         UI: MR Image Storage\n",
       "(0002, 0003) Media Storage SOP Instance UID      UI: 3.2.144.1.2.0137535.6.683.1870795683468907250\n",
       "(0002, 0010) Transfer Syntax UID                 UI: Explicit VR Little Endian\n",
       "(0002, 0012) Implementation Class UID            UI: 1.2.40.0.13.1.1.1\n",
       "(0002, 0013) Implementation Version Name         SH: 'dcm4che-1.4.31'\n",
       "-------------------------------------------------\n",
       "(0008, 0005) Specific Character Set              CS: 'ISO_IR 100'\n",
       "(0008, 0008) Image Type                          CS: ['DERIVED', 'PRIMARY']\n",
       "(0008, 0016) SOP Class UID                       UI: MR Image Storage\n",
       "(0008, 0018) SOP Instance UID                    UI: 3.2.144.1.2.0137535.6.683.1870795683468907250\n",
       "(0008, 0020) Study Date                          DA: '20170113'\n",
       "(0008, 0021) Series Date                         DA: '20170113'\n",
       "(0008, 0022) Acquisition Date                    DA: '20170113'\n",
       "(0008, 0023) Content Date                        DA: '20170113'\n",
       "(0008, 0030) Study Time                          TM: '170114'\n",
       "(0008, 0031) Series Time                         TM: '170131'\n",
       "(0008, 0032) Acquisition Time                    TM: '170328'\n",
       "(0008, 0033) Content Time                        TM: '170114'\n",
       "(0008, 0050) Accession Number                    SH: '721B7400'\n",
       "(0008, 0060) Modality                            CS: 'MR'\n",
       "(0008, 0070) Manufacturer                        LO: 'GE MEDICAL SYSTEMS'\n",
       "(0008, 0090) Referring Physician's Name          PN: 'HOLMES^ALEX'\n",
       "(0008, 1010) Station Name                        SH: ''\n",
       "(0008, 1030) Study Description                   LO: 'BREAST MRI for 3363075481'\n",
       "(0008, 1032)  Procedure Code Sequence  1 item(s) ---- \n",
       "\n",
       "   ---------\n",
       "(0008, 103e) Series Description                  LO: 'CAD~ sub 2 20170113'\n",
       "(0008, 1090) Manufacturer's Model Name           LO: 'SIGNA EXCITE'\n",
       "(0009, 0010) Private Creator                     LO: 'GEMS_IDEN_01'\n",
       "(0010, 0010) Patient's Name                      PN: 'DOYLE^PATRICIA'\n",
       "(0010, 0020) Patient ID                          LO: '3363075481'\n",
       "(0010, 0030) Patient's Birth Date                DA: '19511126'\n",
       "(0010, 0040) Patient's Sex                       CS: 'F'\n",
       "(0010, 1010) Patient's Age                       AS: '065Y'\n",
       "(0010, 1020) Patient's Size                      DS: '1.515'\n",
       "(0010, 1030) Patient's Weight                    DS: '66.615'\n",
       "(0010, 2160) Ethnic Group                        SH: 'African American'\n",
       "(0010, 2180) Occupation                          SH: 'Local government'\n",
       "(0010, 21b0) Additional Patient History          LT: Array of 28 elements\n",
       "(0010, 4000) Patient Comments                    LT: Array of 37 elements\n",
       "(0018, 0010) Contrast/Bolus Agent                LO: '16cc  OPTIMARK'\n",
       "(0018, 0015) Body Part Examined                  CS: 'BREAST'\n",
       "(0018, 0020) Scanning Sequence                   CS: 'GR'\n",
       "(0018, 0021) Sequence Variant                    CS: 'SS SK'\n",
       "(0018, 0022) Scan Options                        CS: 'SAT_GEMS MP_GEMS'\n",
       "(0018, 0023) MR Acquisition Type                 CS: '3D'\n",
       "(0018, 0025) Angio Flag                          CS: 'N'\n",
       "(0018, 0050) Slice Thickness                     DS: '2.0'\n",
       "(0018, 0080) Repetition Time                     DS: '4.888'\n",
       "(0018, 0081) Echo Time                           DS: '2.352'\n",
       "(0018, 0082) Inversion Time                      DS: '17.0'\n",
       "(0018, 0083) Number of Averages                  DS: '0.735849'\n",
       "(0018, 0084) Imaging Frequency                   DS: '63.851876'\n",
       "(0018, 0085) Imaged Nucleus                      SH: '1H'\n",
       "(0018, 0086) Echo Number(s)                      IS: '1'\n",
       "(0018, 0087) Magnetic Field Strength             DS: '1.5'\n",
       "(0018, 0088) Spacing Between Slices              DS: '2.0'\n",
       "(0018, 0091) Echo Train Length                   IS: '1'\n",
       "(0018, 0093) Percent Sampling                    DS: '73.5849'\n",
       "(0018, 0094) Percent Phase Field of View         DS: '100.0'\n",
       "(0018, 0095) Pixel Bandwidth                     DS: '244.141'\n",
       "(0018, 1000) Device Serial Number                LO: 'VV1ET4XFRNQO3'\n",
       "(0018, 1020) Software Versions                   LO: '12 LX MR Software release:12.0_M5B_0846.d'\n",
       "(0018, 1030) Protocol Name                       LO: 'Ordered for 3363075481 by AH'\n",
       "(0018, 1040) Contrast/Bolus Route                LO: 'IV'\n",
       "(0018, 1060) Trigger Time                        DS: '177813.0'\n",
       "(0018, 1088) Heart Rate                          IS: '60'\n",
       "(0018, 1090) Cardiac Number of Images            IS: '0'\n",
       "(0018, 1094) Trigger Window                      IS: '0'\n",
       "(0018, 1100) Reconstruction Diameter             DS: '340.0'\n",
       "(0018, 1250) Receive Coil Name                   SH: 'HDBreast'\n",
       "(0018, 1310) Acquisition Matrix                  US: [0, 360, 320, 0]\n",
       "(0018, 1312) In-plane Phase Encoding Direction   CS: 'ROW'\n",
       "(0018, 1314) Flip Angle                          DS: '10.0'\n",
       "(0018, 1315) Variable Flip Angle Flag            CS: 'N'\n",
       "(0018, 1316) SAR                                 DS: '0.273931'\n",
       "(0018, 4000) Acquisition Comments                LT: Array of 18 elements\n",
       "(0018, 5100) Patient Position                    CS: 'FFP'\n",
       "(0019, 0010) Private Creator                     LO: 'GEMS_ACQU_01'\n",
       "(0020, 000d) Study Instance UID                  UI: 3.2.144.1.2.0137535.6.683.1214942220616161257\n",
       "(0020, 000e) Series Instance UID                 UI: 3.2.144.1.2.0137535.6.683.2337113981393126883\n",
       "(0020, 0010) Study ID                            SH: ''\n",
       "(0020, 0011) Series Number                       IS: '20170113'\n",
       "(0020, 0012) Acquisition Number                  IS: '1'\n",
       "(0020, 0013) Instance Number                     IS: '101'\n",
       "(0020, 0032) Image Position (Patient)            DS: [168.509, 142.844, 146.215]\n",
       "(0020, 0037) Image Orientation (Patient)         DS: [-1.0, -0.0, 0.0, -0.0, -1.0, 0.0]\n",
       "(0020, 0052) Frame of Reference UID              UI: 3.2.144.1.2.0137535.6.683.6869163531165418898\n",
       "(0020, 1002) Images in Acquisition               IS: '510'\n",
       "(0020, 1041) Slice Location                      DS: '146.215'\n",
       "(0021, 0010) Private Creator                     LO: 'GEMS_RELA_01'\n",
       "(0023, 0010) Private Creator                     LO: 'GEMS_STDY_01'\n",
       "(0025, 0010) Private Creator                     LO: 'GEMS_SERS_01'\n",
       "(0027, 0010) Private Creator                     LO: 'GEMS_IMAG_01'\n",
       "(0028, 0002) Samples per Pixel                   US: 1\n",
       "(0028, 0004) Photometric Interpretation          CS: 'MONOCHROME2'\n",
       "(0028, 0010) Rows                                US: 512\n",
       "(0028, 0011) Columns                             US: 512\n",
       "(0028, 0030) Pixel Spacing                       DS: [0.6641, 0.6641]\n",
       "(0028, 0100) Bits Allocated                      US: 16\n",
       "(0028, 0101) Bits Stored                         US: 16\n",
       "(0028, 0102) High Bit                            US: 15\n",
       "(0028, 0103) Pixel Representation                US: 0\n",
       "(0028, 0106) Smallest Image Pixel Value          US: 0\n",
       "(0028, 0107) Largest Image Pixel Value           US: 1069\n",
       "(0028, 0108) Smallest Pixel Value in Series      US: 0\n",
       "(0028, 0109) Largest Pixel Value in Series       US: 7330\n",
       "(0028, 0120) Pixel Padding Value                 US: 0\n",
       "(0028, 0301) Burned In Annotation                CS: 'NO'\n",
       "(0028, 0303) Longitudinal Temporal Information M SH: 'MODIFIED'\n",
       "(0028, 1050) Window Center                       DS: '279.0'\n",
       "(0028, 1051) Window Width                        DS: '558.0'\n",
       "(0029, 0010) Private Creator                     LO: 'GEMS_IMPS_01'\n",
       "(0032, 1060) Requested Procedure Description     LO: 'Ordered for Patricia Doyle by Dr. Holmes'\n",
       "(0032, 4000) Study Comments                      LT: Array of 61 elements\n",
       "(0040, 0241) Performed Station AE Title          AE: 'HTM_SCU'\n",
       "(0040, 0254) Performed Procedure Step Descriptio LO: 'MR BREAST WITH & WITHOUT CONTRAST BILATERAL'\n",
       "(0040, 0275)  Request Attributes Sequence  1 item(s) ---- \n",
       "   (0040, 0007) Scheduled Procedure Step Descriptio LO: 'Ordered for 595-19-4499 by Dr. Holmes'\n",
       "   ---------\n",
       "(0040, 1400) Requested Procedure Comments        LT: Array of 28 elements\n",
       "(0040, a075) Verifying Observer Name             PN: 'BENSON^RICKY'\n",
       "(0040, a123) Person Name                         PN: 'DOYLE^PATRICIA'\n",
       "(0043, 0010) Private Creator                     LO: 'GEMS_PARM_01'\n",
       "(0070, 0084) Content Creator's Name              PN: 'BAILEY^JESSICA'\n",
       "(0117, 0010) Private Creator                     LO: 'UCSF BIRP PRIVATE CREATOR 011710XX'\n",
       "(0117, 1024)  Private tag data  1 item(s) ---- \n",
       "   (0117, 0010) Private Creator                     LO: 'UCSF BIRP PRIVATE CREATOR 011710XX'\n",
       "   (0117, 10c4) Private tag data                    LT: Array of 18 elements\n",
       "   ---------\n",
       "(7fe0, 0010) Pixel Data                          OW: Array of 524288 elements"
      ]
     },
     "execution_count": 10,
     "metadata": {},
     "output_type": "execute_result"
    }
   ],
   "source": [
    "ds"
   ]
  },
  {
   "cell_type": "code",
   "execution_count": 11,
   "id": "0bb23398-b641-4cf8-a8a6-2936669cd498",
   "metadata": {},
   "outputs": [],
   "source": [
    "# def walk_parents_to_find_tag(ds, target_tag, parents_list: list = []):\n",
    "#    for idx, parent_tag in enumerate(parents):\n",
    "#        element = selected_ds.get(parent_tag)\n",
    "#        if element.VR == \"SQ\":\n",
    "#            for sub_dataset in element.value:\n",
    "#                1\n",
    "\n",
    "def get_empty_element_value_for_tag(tag):\n",
    "    elem_vr = dictionary_VR(tag)\n",
    "    elem_name = keyword_for_tag(tag)\n",
    "    elem_val = None\n",
    "    if elem_vr in (\"SH\", \"PN\", \"UI\", \"LO\", \"LT\", \"CS\", \"ST\", \"UT\"):          \n",
    "        elem_val = \"\"\n",
    "    elif elem_vr in (\"DT\", \"DA\", \"TM\"):\n",
    "        elem_val = \"\"\n",
    "    elif elem_vr in (\"UL\", \"FL\", \"FD\", \"SL\", \"SS\", \"US\"):\n",
    "        elem_val = 0\n",
    "    elif elem_vr in (\"DS\", \"IS\"):\n",
    "        elem_val = \"0\"\n",
    "    elif elem_vr == \"UN\":\n",
    "        elem_val = b\"\"\n",
    "    else:\n",
    "        pass\n",
    "    return elem_val\n",
    "\n",
    "def create_element_from_tag(tag):\n",
    "    ignore_list = ['CodeValue', 'CodeMeaning']\n",
    "    \n",
    "    elem_vr = dictionary_VR(tag)\n",
    "    elem_name = keyword_for_tag(tag)\n",
    "    elem_val = get_empty_element_value_for_tag(tag)\n",
    "\n",
    "    if elem_name in ignore_list:\n",
    "        return None\n",
    "    elif elem_val is None:\n",
    "        return None\n",
    "    else:\n",
    "        elem = pydicom.dataelem.DataElement(tag, elem_vr, elem_val)\n",
    "        return elem\n",
    "    \n",
    "\n",
    "def create_empty_element(ds, element_tag, parents: list = []):\n",
    "    selected_ds = None\n",
    "    if len(parents) > 1:\n",
    "        raise NotImplementedError\n",
    "    elif len(parents) == 1:\n",
    "        element = ds.get(parents[0])\n",
    "        if element is not None:\n",
    "            if len(element.value) > 0:\n",
    "                selected_ds = element.value[0]\n",
    "            else:\n",
    "                selected_ds = pydicom.dataset.Dataset()\n",
    "                element.value.append(selected_ds) \n",
    "    else:\n",
    "        selected_ds = ds\n",
    "\n",
    "    if selected_ds is not None:\n",
    "        new_element = create_element_from_tag(element_tag)\n",
    "        if new_element is not None:\n",
    "            selected_ds.add(new_element)\n",
    "            print(f\"Element created for tag {element_tag} {keyword_for_tag(element_tag)}\")     \n",
    "        else:\n",
    "            print(f\"Element can not be created for tag {element_tag} {keyword_for_tag(element_tag)}\")          "
   ]
  },
  {
   "cell_type": "code",
   "execution_count": 12,
   "id": "dac01ee6-0fd1-428a-8ddf-4fa42c9d0949",
   "metadata": {},
   "outputs": [
    {
     "name": "stdout",
     "output_type": "stream",
     "text": [
      "Element can not be created for tag (0008, 0100) CodeValue\n",
      "Element can not be created for tag (0008, 0104) CodeMeaning\n",
      "Element can not be created for tag (0008, 0119) LongCodeValue\n",
      "Element can not be created for tag (0008, 0120) URNCodeValue\n",
      "Element created for tag (0020, 0060) Laterality\n",
      "Element created for tag (0020, 1040) PositionReferenceIndicator\n"
     ]
    }
   ],
   "source": [
    "for error in missing_attribute_errors:\n",
    "    create_empty_element(ds, error.tag, error.parents)"
   ]
  },
  {
   "cell_type": "code",
   "execution_count": 13,
   "id": "7194921d-99f2-405a-88b0-6c412e34fe05",
   "metadata": {},
   "outputs": [
    {
     "data": {
      "text/plain": [
       "Dataset.file_meta -------------------------------\n",
       "(0002, 0000) File Meta Information Group Length  UL: 178\n",
       "(0002, 0001) File Meta Information Version       OB: b'\\x00\\x01'\n",
       "(0002, 0002) Media Storage SOP Class UID         UI: MR Image Storage\n",
       "(0002, 0003) Media Storage SOP Instance UID      UI: 3.2.144.1.2.0137535.6.683.1870795683468907250\n",
       "(0002, 0010) Transfer Syntax UID                 UI: Explicit VR Little Endian\n",
       "(0002, 0012) Implementation Class UID            UI: 1.2.40.0.13.1.1.1\n",
       "(0002, 0013) Implementation Version Name         SH: 'dcm4che-1.4.31'\n",
       "-------------------------------------------------\n",
       "(0008, 0005) Specific Character Set              CS: 'ISO_IR 100'\n",
       "(0008, 0008) Image Type                          CS: ['DERIVED', 'PRIMARY']\n",
       "(0008, 0016) SOP Class UID                       UI: MR Image Storage\n",
       "(0008, 0018) SOP Instance UID                    UI: 3.2.144.1.2.0137535.6.683.1870795683468907250\n",
       "(0008, 0020) Study Date                          DA: '20170113'\n",
       "(0008, 0021) Series Date                         DA: '20170113'\n",
       "(0008, 0022) Acquisition Date                    DA: '20170113'\n",
       "(0008, 0023) Content Date                        DA: '20170113'\n",
       "(0008, 0030) Study Time                          TM: '170114'\n",
       "(0008, 0031) Series Time                         TM: '170131'\n",
       "(0008, 0032) Acquisition Time                    TM: '170328'\n",
       "(0008, 0033) Content Time                        TM: '170114'\n",
       "(0008, 0050) Accession Number                    SH: '721B7400'\n",
       "(0008, 0060) Modality                            CS: 'MR'\n",
       "(0008, 0070) Manufacturer                        LO: 'GE MEDICAL SYSTEMS'\n",
       "(0008, 0090) Referring Physician's Name          PN: 'HOLMES^ALEX'\n",
       "(0008, 1010) Station Name                        SH: ''\n",
       "(0008, 1030) Study Description                   LO: 'BREAST MRI for 3363075481'\n",
       "(0008, 1032)  Procedure Code Sequence  1 item(s) ---- \n",
       "\n",
       "   ---------\n",
       "(0008, 103e) Series Description                  LO: 'CAD~ sub 2 20170113'\n",
       "(0008, 1090) Manufacturer's Model Name           LO: 'SIGNA EXCITE'\n",
       "(0009, 0010) Private Creator                     LO: 'GEMS_IDEN_01'\n",
       "(0010, 0010) Patient's Name                      PN: 'DOYLE^PATRICIA'\n",
       "(0010, 0020) Patient ID                          LO: '3363075481'\n",
       "(0010, 0030) Patient's Birth Date                DA: '19511126'\n",
       "(0010, 0040) Patient's Sex                       CS: 'F'\n",
       "(0010, 1010) Patient's Age                       AS: '065Y'\n",
       "(0010, 1020) Patient's Size                      DS: '1.515'\n",
       "(0010, 1030) Patient's Weight                    DS: '66.615'\n",
       "(0010, 2160) Ethnic Group                        SH: 'African American'\n",
       "(0010, 2180) Occupation                          SH: 'Local government'\n",
       "(0010, 21b0) Additional Patient History          LT: Array of 28 elements\n",
       "(0010, 4000) Patient Comments                    LT: Array of 37 elements\n",
       "(0018, 0010) Contrast/Bolus Agent                LO: '16cc  OPTIMARK'\n",
       "(0018, 0015) Body Part Examined                  CS: 'BREAST'\n",
       "(0018, 0020) Scanning Sequence                   CS: 'GR'\n",
       "(0018, 0021) Sequence Variant                    CS: 'SS SK'\n",
       "(0018, 0022) Scan Options                        CS: 'SAT_GEMS MP_GEMS'\n",
       "(0018, 0023) MR Acquisition Type                 CS: '3D'\n",
       "(0018, 0025) Angio Flag                          CS: 'N'\n",
       "(0018, 0050) Slice Thickness                     DS: '2.0'\n",
       "(0018, 0080) Repetition Time                     DS: '4.888'\n",
       "(0018, 0081) Echo Time                           DS: '2.352'\n",
       "(0018, 0082) Inversion Time                      DS: '17.0'\n",
       "(0018, 0083) Number of Averages                  DS: '0.735849'\n",
       "(0018, 0084) Imaging Frequency                   DS: '63.851876'\n",
       "(0018, 0085) Imaged Nucleus                      SH: '1H'\n",
       "(0018, 0086) Echo Number(s)                      IS: '1'\n",
       "(0018, 0087) Magnetic Field Strength             DS: '1.5'\n",
       "(0018, 0088) Spacing Between Slices              DS: '2.0'\n",
       "(0018, 0091) Echo Train Length                   IS: '1'\n",
       "(0018, 0093) Percent Sampling                    DS: '73.5849'\n",
       "(0018, 0094) Percent Phase Field of View         DS: '100.0'\n",
       "(0018, 0095) Pixel Bandwidth                     DS: '244.141'\n",
       "(0018, 1000) Device Serial Number                LO: 'VV1ET4XFRNQO3'\n",
       "(0018, 1020) Software Versions                   LO: '12 LX MR Software release:12.0_M5B_0846.d'\n",
       "(0018, 1030) Protocol Name                       LO: 'Ordered for 3363075481 by AH'\n",
       "(0018, 1040) Contrast/Bolus Route                LO: 'IV'\n",
       "(0018, 1060) Trigger Time                        DS: '177813.0'\n",
       "(0018, 1088) Heart Rate                          IS: '60'\n",
       "(0018, 1090) Cardiac Number of Images            IS: '0'\n",
       "(0018, 1094) Trigger Window                      IS: '0'\n",
       "(0018, 1100) Reconstruction Diameter             DS: '340.0'\n",
       "(0018, 1250) Receive Coil Name                   SH: 'HDBreast'\n",
       "(0018, 1310) Acquisition Matrix                  US: [0, 360, 320, 0]\n",
       "(0018, 1312) In-plane Phase Encoding Direction   CS: 'ROW'\n",
       "(0018, 1314) Flip Angle                          DS: '10.0'\n",
       "(0018, 1315) Variable Flip Angle Flag            CS: 'N'\n",
       "(0018, 1316) SAR                                 DS: '0.273931'\n",
       "(0018, 4000) Acquisition Comments                LT: Array of 18 elements\n",
       "(0018, 5100) Patient Position                    CS: 'FFP'\n",
       "(0019, 0010) Private Creator                     LO: 'GEMS_ACQU_01'\n",
       "(0020, 000d) Study Instance UID                  UI: 3.2.144.1.2.0137535.6.683.1214942220616161257\n",
       "(0020, 000e) Series Instance UID                 UI: 3.2.144.1.2.0137535.6.683.2337113981393126883\n",
       "(0020, 0010) Study ID                            SH: ''\n",
       "(0020, 0011) Series Number                       IS: '20170113'\n",
       "(0020, 0012) Acquisition Number                  IS: '1'\n",
       "(0020, 0013) Instance Number                     IS: '101'\n",
       "(0020, 0032) Image Position (Patient)            DS: [168.509, 142.844, 146.215]\n",
       "(0020, 0037) Image Orientation (Patient)         DS: [-1.0, -0.0, 0.0, -0.0, -1.0, 0.0]\n",
       "(0020, 0052) Frame of Reference UID              UI: 3.2.144.1.2.0137535.6.683.6869163531165418898\n",
       "(0020, 0060) Laterality                          CS: ''\n",
       "(0020, 1002) Images in Acquisition               IS: '510'\n",
       "(0020, 1040) Position Reference Indicator        LO: ''\n",
       "(0020, 1041) Slice Location                      DS: '146.215'\n",
       "(0021, 0010) Private Creator                     LO: 'GEMS_RELA_01'\n",
       "(0023, 0010) Private Creator                     LO: 'GEMS_STDY_01'\n",
       "(0025, 0010) Private Creator                     LO: 'GEMS_SERS_01'\n",
       "(0027, 0010) Private Creator                     LO: 'GEMS_IMAG_01'\n",
       "(0028, 0002) Samples per Pixel                   US: 1\n",
       "(0028, 0004) Photometric Interpretation          CS: 'MONOCHROME2'\n",
       "(0028, 0010) Rows                                US: 512\n",
       "(0028, 0011) Columns                             US: 512\n",
       "(0028, 0030) Pixel Spacing                       DS: [0.6641, 0.6641]\n",
       "(0028, 0100) Bits Allocated                      US: 16\n",
       "(0028, 0101) Bits Stored                         US: 16\n",
       "(0028, 0102) High Bit                            US: 15\n",
       "(0028, 0103) Pixel Representation                US: 0\n",
       "(0028, 0106) Smallest Image Pixel Value          US: 0\n",
       "(0028, 0107) Largest Image Pixel Value           US: 1069\n",
       "(0028, 0108) Smallest Pixel Value in Series      US: 0\n",
       "(0028, 0109) Largest Pixel Value in Series       US: 7330\n",
       "(0028, 0120) Pixel Padding Value                 US: 0\n",
       "(0028, 0301) Burned In Annotation                CS: 'NO'\n",
       "(0028, 0303) Longitudinal Temporal Information M SH: 'MODIFIED'\n",
       "(0028, 1050) Window Center                       DS: '279.0'\n",
       "(0028, 1051) Window Width                        DS: '558.0'\n",
       "(0029, 0010) Private Creator                     LO: 'GEMS_IMPS_01'\n",
       "(0032, 1060) Requested Procedure Description     LO: 'Ordered for Patricia Doyle by Dr. Holmes'\n",
       "(0032, 4000) Study Comments                      LT: Array of 61 elements\n",
       "(0040, 0241) Performed Station AE Title          AE: 'HTM_SCU'\n",
       "(0040, 0254) Performed Procedure Step Descriptio LO: 'MR BREAST WITH & WITHOUT CONTRAST BILATERAL'\n",
       "(0040, 0275)  Request Attributes Sequence  1 item(s) ---- \n",
       "   (0040, 0007) Scheduled Procedure Step Descriptio LO: 'Ordered for 595-19-4499 by Dr. Holmes'\n",
       "   ---------\n",
       "(0040, 1400) Requested Procedure Comments        LT: Array of 28 elements\n",
       "(0040, a075) Verifying Observer Name             PN: 'BENSON^RICKY'\n",
       "(0040, a123) Person Name                         PN: 'DOYLE^PATRICIA'\n",
       "(0043, 0010) Private Creator                     LO: 'GEMS_PARM_01'\n",
       "(0070, 0084) Content Creator's Name              PN: 'BAILEY^JESSICA'\n",
       "(0117, 0010) Private Creator                     LO: 'UCSF BIRP PRIVATE CREATOR 011710XX'\n",
       "(0117, 1024)  Private tag data  1 item(s) ---- \n",
       "   (0117, 0010) Private Creator                     LO: 'UCSF BIRP PRIVATE CREATOR 011710XX'\n",
       "   (0117, 10c4) Private tag data                    LT: Array of 18 elements\n",
       "   ---------\n",
       "(7fe0, 0010) Pixel Data                          OW: Array of 524288 elements"
      ]
     },
     "execution_count": 13,
     "metadata": {},
     "output_type": "execute_result"
    }
   ],
   "source": [
    "ds"
   ]
  },
  {
   "cell_type": "code",
   "execution_count": 14,
   "id": "ed4876a0-e1c0-40fa-903d-16dea3867ebe",
   "metadata": {},
   "outputs": [],
   "source": [
    "output_path = \"../00000098.dcm\"\n",
    "\n",
    "ds.save_as(output_path)"
   ]
  },
  {
   "cell_type": "code",
   "execution_count": 15,
   "id": "499fe8ac-d2ac-4081-91f2-418f4dccfd12",
   "metadata": {},
   "outputs": [],
   "source": [
    "newerrs, _ = validator.validate_dicom(output_path)\n",
    "missing_attribute_errors = DCIodValidator.filter_missing_attributes_errors(newerrs)"
   ]
  },
  {
   "cell_type": "code",
   "execution_count": 16,
   "id": "fe81dca2-1463-460c-b815-199e674b2c64",
   "metadata": {},
   "outputs": [
    {
     "name": "stdout",
     "output_type": "stream",
     "text": [
      "CodeValue\n",
      "SH 1C\n",
      "CodeMeaning\n",
      "LO 1\n",
      "LongCodeValue\n",
      "UC 1C\n",
      "URNCodeValue\n",
      "UR 1C\n"
     ]
    }
   ],
   "source": [
    "for err in missing_attribute_errors:\n",
    "    print(err.name)\n",
    "    print(dictionary_VR(err.tag), err.missing_type)"
   ]
  },
  {
   "cell_type": "code",
   "execution_count": 17,
   "id": "321b3dbe-349a-49dd-b3b0-61985d560e54",
   "metadata": {},
   "outputs": [
    {
     "name": "stdout",
     "output_type": "stream",
     "text": [
      "21\n",
      "19\n"
     ]
    }
   ],
   "source": [
    "print(len(errors))\n",
    "print(len(newerrs))"
   ]
  },
  {
   "cell_type": "code",
   "execution_count": 18,
   "id": "c678fa7e-481b-4939-bfdd-897143e68151",
   "metadata": {},
   "outputs": [
    {
     "name": "stdout",
     "output_type": "stream",
     "text": [
      "</Laterality(0020,0060)> - Missing attribute for Type 2C Conditional - Module=<GeneralSeries>\n",
      "</PositionReferenceIndicator(0020,1040)> - Missing attribute for Type 2 Required - Module=<FrameOfReference>\n"
     ]
    }
   ],
   "source": [
    "set1 = set((x.tag,x.name) for x in newerrs)\n",
    "difference = [x for x in errors if (x.tag,x.name) not in set1]\n",
    "for d in difference:\n",
    "    print(d)"
   ]
  },
  {
   "cell_type": "code",
   "execution_count": 30,
   "id": "0e022ef6-845b-4f62-b2b5-68261c346aa3",
   "metadata": {},
   "outputs": [],
   "source": [
    "validation_sample = \"/home/r079a/Desktop/de-identification/dataset/midi-validation-data/input_data/154824530/2.3.397.0.1.8038924.5.958.1510767526752412776/2.3.397.0.1.8038924.5.958.2106148537058589703/00000001.dcm\""
   ]
  },
  {
   "cell_type": "code",
   "execution_count": 31,
   "id": "cbf47fe6-6353-4cd7-8d64-7c6de907087a",
   "metadata": {},
   "outputs": [
    {
     "name": "stdout",
     "output_type": "stream",
     "text": [
      "Error:\n",
      "Tag: (0040, a170)\n",
      "Name: PurposeOfReferenceCodeSequence\n",
      "Index: 1\n",
      "Parents: (0018, a001)\n",
      "Message: Missing attribute for Type 1 Required\n",
      "Type: 1\n",
      "Module: SOPCommon\n",
      "Error:\n",
      "Tag: (0008, 0070)\n",
      "Name: Manufacturer\n",
      "Index: 1\n",
      "Parents: (0018, a001)\n",
      "Message: Missing attribute for Type 1 Required\n",
      "Type: 1\n",
      "Module: SOPCommon\n",
      "Element can not be created for tag (0040, a170) PurposeOfReferenceCodeSequence\n",
      "Element created for tag (0008, 0070) Manufacturer\n"
     ]
    }
   ],
   "source": [
    "errors, _ = validator.validate_dicom(validation_sample)\n",
    "missing_attribute_errors = DCIodValidator.filter_missing_attributes_errors(errors)\n",
    "DCIodValidator.print_valitation_item_list(missing_attribute_errors)\n",
    "ds = pydicom.dcmread(validation_sample)\n",
    "\n",
    "attribute_created = 0\n",
    "for error in missing_attribute_errors:\n",
    "    created = DCIodValidator.create_empty_element(ds, error.tag, error.parents)\n",
    "    if created:\n",
    "        attribute_created += 1"
   ]
  },
  {
   "cell_type": "code",
   "execution_count": 32,
   "id": "5432b906-fdb8-47f6-9d37-6415933d4e39",
   "metadata": {},
   "outputs": [],
   "source": [
    "output_path = \"../00001031.dcm\"\n",
    "\n",
    "ds.save_as(output_path)"
   ]
  },
  {
   "cell_type": "code",
   "execution_count": 33,
   "id": "9c42b93b-1ad2-426c-8d64-bef14e8f90e5",
   "metadata": {},
   "outputs": [],
   "source": [
    "newerrs, _ = validator.validate_dicom(output_path)"
   ]
  },
  {
   "cell_type": "code",
   "execution_count": 34,
   "id": "5fcc1001-0b53-4d87-9fc2-0ee76dd75024",
   "metadata": {},
   "outputs": [
    {
     "name": "stdout",
     "output_type": "stream",
     "text": [
      "</ClinicalTrialSponsorName(0012,0010)> - Empty attribute (no value) for Type 1 Required - Module=<ClinicalTrialSubject>\n",
      "</ClinicalTrialProtocolID(0012,0020)> - Empty attribute (no value) for Type 1 Required - Module=<ClinicalTrialSubject>\n",
      "</ClinicalTrialSubjectID(0012,0040)> - Attribute present but empty (no value) even though condition not satisfied for Type 1C Conditional - Module=<ClinicalTrialSubject>\n",
      "</ClinicalTrialSubjectReadingID(0012,0042)> - Attribute present but empty (no value) even though condition not satisfied for Type 1C Conditional - Module=<ClinicalTrialSubject>\n",
      "</ReferencedImageSequence(0008,1140)> - Bad Sequence number of Items = <0> (1-n Required by Module definition) - Module=<GeneralReference>\n",
      "</ReferencedImageSequence(0008,1140)> - Bad attribute Value Multiplicity for Type 3 Optional - Module=<GeneralReference>\n",
      "</SourceImageSequence(0008,2112)> - Bad Sequence number of Items = <0> (1-n Required by Module definition) - Module=<GeneralReference>\n",
      "</SourceImageSequence(0008,2112)> - Bad attribute Value Multiplicity for Type 3 Optional - Module=<GeneralReference>\n",
      "</ContributingEquipmentSequence(0018,a001)[1]/PurposeOfReferenceCodeSequence(0040,a170)> - Missing attribute for Type 1 Required - Module=<SOPCommon>\n",
      "</ContributingEquipmentSequence(0018,a001)[1]/Manufacturer(0008,0070)> - Empty attribute (no value) for Type 1 Required - Module=<SOPCommon>\n"
     ]
    }
   ],
   "source": [
    "DCIodValidator.print_valitation_item_list(newerrs)"
   ]
  },
  {
   "cell_type": "code",
   "execution_count": null,
   "id": "5f093afc-8301-404f-8c46-0da18b0532ba",
   "metadata": {},
   "outputs": [],
   "source": []
  }
 ],
 "metadata": {
  "kernelspec": {
   "display_name": "dcm-deid",
   "language": "python",
   "name": "dcm-deid"
  },
  "language_info": {
   "codemirror_mode": {
    "name": "ipython",
    "version": 3
   },
   "file_extension": ".py",
   "mimetype": "text/x-python",
   "name": "python",
   "nbconvert_exporter": "python",
   "pygments_lexer": "ipython3",
   "version": "3.12.0"
  }
 },
 "nbformat": 4,
 "nbformat_minor": 5
}
