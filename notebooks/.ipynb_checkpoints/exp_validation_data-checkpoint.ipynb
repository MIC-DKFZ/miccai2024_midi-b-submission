{
 "cells": [
  {
   "cell_type": "code",
   "execution_count": 1,
   "id": "05f09fd2-bf5b-4370-afb9-7dac1632ca16",
   "metadata": {},
   "outputs": [],
   "source": [
    "import sys\n",
    "import csv\n",
    "import os\n",
    "# setting path\n",
    "sys.path.append('../')\n",
    "\n",
    "from utils.display import display_pixel_arry\n",
    "\n",
    "from dcm_anonymizers.img_anonymizers import DCMImageAnonymizer\n",
    "# from dcm_anonymizers.phi_detectors import DcmRobustPHIDetector\n",
    "\n",
    "from pydicom import dcmread\n",
    "\n",
    "from pathlib import Path"
   ]
  },
  {
   "cell_type": "code",
   "execution_count": 2,
   "id": "6e619e59-9cdd-4916-95f0-611bc841bea1",
   "metadata": {},
   "outputs": [],
   "source": [
    "def get_subdirs_with_files(base_path):\n",
    "    subdirs_with_files = []\n",
    "    \n",
    "    # Walk through each directory in the specified path\n",
    "    for root, dirs, files in os.walk(base_path):\n",
    "        if files:  # Check if the current directory contains any files\n",
    "            subdirs_with_files.append(root)\n",
    "    \n",
    "    return subdirs_with_files"
   ]
  },
  {
   "cell_type": "code",
   "execution_count": 51,
   "id": "7361ebe6-0828-478f-af0b-5e60eba417a2",
   "metadata": {},
   "outputs": [],
   "source": [
    "output_patient_id = \"Pseudo-PHI-072\"\n",
    "series_idx = 0\n",
    "dcm_filename = \"00000039.dcm\""
   ]
  },
  {
   "cell_type": "code",
   "execution_count": 52,
   "id": "741afbad-c87c-448f-b1eb-f9a01241e6a3",
   "metadata": {},
   "outputs": [],
   "source": [
    "validation_data_path = \"/home/r079a/Desktop/de-identification/dataset/midi-validation-data\"\n",
    "\n",
    "patient_mapping_path = Path(validation_data_path, 'output_data_tcia_private_tags_06_untested/mappings/patient_id_mapping.csv')\n",
    "\n",
    "patient_mapping = {}\n",
    "with open(patient_mapping_path, mode='r') as infile:\n",
    "    reader = csv.reader(infile)\n",
    "    next(reader, None)  # skip the headers\n",
    "    patient_mapping = {rows[1]:rows[0] for rows in reader}\n",
    "\n",
    "input_data_root = Path(validation_data_path, 'input_data')\n",
    "\n",
    "target_patient_path = input_data_root / patient_mapping[output_patient_id]\n",
    "\n",
    "all_series_paths = get_subdirs_with_files(target_patient_path)"
   ]
  },
  {
   "cell_type": "code",
   "execution_count": 53,
   "id": "dd082ca1-df3b-4a52-99ca-a4bc7934f286",
   "metadata": {
    "scrolled": true
   },
   "outputs": [
    {
     "name": "stdout",
     "output_type": "stream",
     "text": [
      "/home/r079a/Desktop/de-identification/dataset/midi-validation-data/input_data/5155749005/3.3.643.1.2.3791796.5.188.2439194472378329063/3.3.643.1.2.3791796.5.188.3075860933482453746/00000001.dcm\n"
     ]
    }
   ],
   "source": [
    "\n",
    "sample_dicom = os.path.join(all_series_paths[series_idx], dcm_filename)\n",
    "\n",
    "# Following one is important to traverse sequences\n",
    "# sample_dicom = Path(validation_data_path, 'input_data/8571931193/1.4.860.1.0.6050381.6.464.2117248485162392317/1.4.860.1.0.6050381.6.464.1304159448982591337/00000001.dcm')\n",
    "\n",
    "\n",
    "# sample_dicom = Path(validation_data_path, 'output_data/data/Pseudo-PHI-002/1.2.826.0.1.3680043.8.498.10746498679825505398104660274302695275/1.2.826.0.1.3680043.8.498.88870736155561815812592063497284637934/00000105.dcm')\n",
    "\n",
    "# sample_dicom = Path(validation_data_path, 'input_data/2951928526/2.1.846.0.0.0624952.3.426.1171423858789191618/2.1.846.0.0.0624952.3.426.4666769529569841014/00000001.dcm')\n",
    "\n",
    "# sample_dicom = \"/home/r079a/Downloads/input_data/input_data/8172202354/3.4.823.0.1.5139398.5.009.3225903761765232034/3.4.823.0.1.5139398.5.009.2213188170240812441/00000105.dcm\"\n",
    "\n",
    "print(sample_dicom)"
   ]
  },
  {
   "cell_type": "code",
   "execution_count": 54,
   "id": "47cdf271-4b5c-407e-a125-c61a65a0c59f",
   "metadata": {},
   "outputs": [],
   "source": [
    "dataset = dcmread(sample_dicom)"
   ]
  },
  {
   "cell_type": "code",
   "execution_count": 55,
   "id": "05e35140-704c-4606-a55d-76af31f66293",
   "metadata": {},
   "outputs": [],
   "source": [
    "pixel_data = dataset.get(\"pixel_array\")"
   ]
  },
  {
   "cell_type": "code",
   "execution_count": 47,
   "id": "02e1e58c-ac1c-47e8-b6ac-72dfa3cd8669",
   "metadata": {},
   "outputs": [
    {
     "name": "stdout",
     "output_type": "stream",
     "text": [
      "True\n"
     ]
    }
   ],
   "source": [
    "print(\"PixelData\" in dataset)"
   ]
  },
  {
   "cell_type": "code",
   "execution_count": 48,
   "id": "8bbc23a1-ea7c-4838-9019-eb480c72bd99",
   "metadata": {},
   "outputs": [
    {
     "name": "stdout",
     "output_type": "stream",
     "text": [
      "Dataset.file_meta -------------------------------\n",
      "(0002, 0000) File Meta Information Group Length  UL: 178\n",
      "(0002, 0001) File Meta Information Version       OB: b'\\x00\\x01'\n",
      "(0002, 0002) Media Storage SOP Class UID         UI: MR Image Storage\n",
      "(0002, 0003) Media Storage SOP Instance UID      UI: 3.2.144.1.2.0137535.6.683.1870795683468907250\n",
      "(0002, 0010) Transfer Syntax UID                 UI: Explicit VR Little Endian\n",
      "(0002, 0012) Implementation Class UID            UI: 1.2.40.0.13.1.1.1\n",
      "(0002, 0013) Implementation Version Name         SH: 'dcm4che-1.4.31'\n",
      "-------------------------------------------------\n",
      "(0008, 0005) Specific Character Set              CS: 'ISO_IR 100'\n",
      "(0008, 0008) Image Type                          CS: ['DERIVED', 'PRIMARY']\n",
      "(0008, 0016) SOP Class UID                       UI: MR Image Storage\n",
      "(0008, 0018) SOP Instance UID                    UI: 3.2.144.1.2.0137535.6.683.1870795683468907250\n",
      "(0008, 0020) Study Date                          DA: '20170113'\n",
      "(0008, 0021) Series Date                         DA: '20170113'\n",
      "(0008, 0022) Acquisition Date                    DA: '20170113'\n",
      "(0008, 0023) Content Date                        DA: '20170113'\n",
      "(0008, 0030) Study Time                          TM: '170114'\n",
      "(0008, 0031) Series Time                         TM: '170131'\n",
      "(0008, 0032) Acquisition Time                    TM: '170328'\n",
      "(0008, 0033) Content Time                        TM: '170114'\n",
      "(0008, 0050) Accession Number                    SH: '721B7400'\n",
      "(0008, 0060) Modality                            CS: 'MR'\n",
      "(0008, 0070) Manufacturer                        LO: 'GE MEDICAL SYSTEMS'\n",
      "(0008, 0090) Referring Physician's Name          PN: 'HOLMES^ALEX'\n",
      "(0008, 1010) Station Name                        SH: ''\n",
      "(0008, 1030) Study Description                   LO: 'BREAST MRI for 3363075481'\n",
      "(0008, 1032)  Procedure Code Sequence  1 item(s) ---- \n",
      "\n",
      "   ---------\n",
      "(0008, 103e) Series Description                  LO: 'CAD~ sub 2 20170113'\n",
      "(0008, 1090) Manufacturer's Model Name           LO: 'SIGNA EXCITE'\n",
      "(0009, 0010) Private Creator                     LO: 'GEMS_IDEN_01'\n",
      "(0010, 0010) Patient's Name                      PN: 'DOYLE^PATRICIA'\n",
      "(0010, 0020) Patient ID                          LO: '3363075481'\n",
      "(0010, 0030) Patient's Birth Date                DA: '19511126'\n",
      "(0010, 0040) Patient's Sex                       CS: 'F'\n",
      "(0010, 1010) Patient's Age                       AS: '065Y'\n",
      "(0010, 1020) Patient's Size                      DS: '1.515'\n",
      "(0010, 1030) Patient's Weight                    DS: '66.615'\n",
      "(0010, 2160) Ethnic Group                        SH: 'African American'\n",
      "(0010, 2180) Occupation                          SH: 'Local government'\n",
      "(0010, 21b0) Additional Patient History          LT: Array of 28 elements\n",
      "(0010, 4000) Patient Comments                    LT: Array of 37 elements\n",
      "(0018, 0010) Contrast/Bolus Agent                LO: '16cc  OPTIMARK'\n",
      "(0018, 0015) Body Part Examined                  CS: 'BREAST'\n",
      "(0018, 0020) Scanning Sequence                   CS: 'GR'\n",
      "(0018, 0021) Sequence Variant                    CS: 'SS SK'\n",
      "(0018, 0022) Scan Options                        CS: 'SAT_GEMS MP_GEMS'\n",
      "(0018, 0023) MR Acquisition Type                 CS: '3D'\n",
      "(0018, 0025) Angio Flag                          CS: 'N'\n",
      "(0018, 0050) Slice Thickness                     DS: '2.0'\n",
      "(0018, 0080) Repetition Time                     DS: '4.888'\n",
      "(0018, 0081) Echo Time                           DS: '2.352'\n",
      "(0018, 0082) Inversion Time                      DS: '17.0'\n",
      "(0018, 0083) Number of Averages                  DS: '0.735849'\n",
      "(0018, 0084) Imaging Frequency                   DS: '63.851876'\n",
      "(0018, 0085) Imaged Nucleus                      SH: '1H'\n",
      "(0018, 0086) Echo Number(s)                      IS: '1'\n",
      "(0018, 0087) Magnetic Field Strength             DS: '1.5'\n",
      "(0018, 0088) Spacing Between Slices              DS: '2.0'\n",
      "(0018, 0091) Echo Train Length                   IS: '1'\n",
      "(0018, 0093) Percent Sampling                    DS: '73.5849'\n",
      "(0018, 0094) Percent Phase Field of View         DS: '100.0'\n",
      "(0018, 0095) Pixel Bandwidth                     DS: '244.141'\n",
      "(0018, 1000) Device Serial Number                LO: 'VV1ET4XFRNQO3'\n",
      "(0018, 1020) Software Versions                   LO: '12 LX MR Software release:12.0_M5B_0846.d'\n",
      "(0018, 1030) Protocol Name                       LO: 'Ordered for 3363075481 by AH'\n",
      "(0018, 1040) Contrast/Bolus Route                LO: 'IV'\n",
      "(0018, 1060) Trigger Time                        DS: '177813.0'\n",
      "(0018, 1088) Heart Rate                          IS: '60'\n",
      "(0018, 1090) Cardiac Number of Images            IS: '0'\n",
      "(0018, 1094) Trigger Window                      IS: '0'\n",
      "(0018, 1100) Reconstruction Diameter             DS: '340.0'\n",
      "(0018, 1250) Receive Coil Name                   SH: 'HDBreast'\n",
      "(0018, 1310) Acquisition Matrix                  US: [0, 360, 320, 0]\n",
      "(0018, 1312) In-plane Phase Encoding Direction   CS: 'ROW'\n",
      "(0018, 1314) Flip Angle                          DS: '10.0'\n",
      "(0018, 1315) Variable Flip Angle Flag            CS: 'N'\n",
      "(0018, 1316) SAR                                 DS: '0.273931'\n",
      "(0018, 4000) Acquisition Comments                LT: Array of 18 elements\n",
      "(0018, 5100) Patient Position                    CS: 'FFP'\n",
      "(0019, 0010) Private Creator                     LO: 'GEMS_ACQU_01'\n",
      "(0020, 000d) Study Instance UID                  UI: 3.2.144.1.2.0137535.6.683.1214942220616161257\n",
      "(0020, 000e) Series Instance UID                 UI: 3.2.144.1.2.0137535.6.683.2337113981393126883\n",
      "(0020, 0010) Study ID                            SH: ''\n",
      "(0020, 0011) Series Number                       IS: '20170113'\n",
      "(0020, 0012) Acquisition Number                  IS: '1'\n",
      "(0020, 0013) Instance Number                     IS: '101'\n",
      "(0020, 0032) Image Position (Patient)            DS: [168.509, 142.844, 146.215]\n",
      "(0020, 0037) Image Orientation (Patient)         DS: [-1.0, -0.0, 0.0, -0.0, -1.0, 0.0]\n",
      "(0020, 0052) Frame of Reference UID              UI: 3.2.144.1.2.0137535.6.683.6869163531165418898\n",
      "(0020, 1002) Images in Acquisition               IS: '510'\n",
      "(0020, 1041) Slice Location                      DS: '146.215'\n",
      "(0021, 0010) Private Creator                     LO: 'GEMS_RELA_01'\n",
      "(0023, 0010) Private Creator                     LO: 'GEMS_STDY_01'\n",
      "(0025, 0010) Private Creator                     LO: 'GEMS_SERS_01'\n",
      "(0027, 0010) Private Creator                     LO: 'GEMS_IMAG_01'\n",
      "(0028, 0002) Samples per Pixel                   US: 1\n",
      "(0028, 0004) Photometric Interpretation          CS: 'MONOCHROME2'\n",
      "(0028, 0010) Rows                                US: 512\n",
      "(0028, 0011) Columns                             US: 512\n",
      "(0028, 0030) Pixel Spacing                       DS: [0.6641, 0.6641]\n",
      "(0028, 0100) Bits Allocated                      US: 16\n",
      "(0028, 0101) Bits Stored                         US: 16\n",
      "(0028, 0102) High Bit                            US: 15\n",
      "(0028, 0103) Pixel Representation                US: 0\n",
      "(0028, 0106) Smallest Image Pixel Value          US: 0\n",
      "(0028, 0107) Largest Image Pixel Value           US: 1069\n",
      "(0028, 0108) Smallest Pixel Value in Series      US: 0\n",
      "(0028, 0109) Largest Pixel Value in Series       US: 7330\n",
      "(0028, 0120) Pixel Padding Value                 US: 0\n",
      "(0028, 0301) Burned In Annotation                CS: 'NO'\n",
      "(0028, 0303) Longitudinal Temporal Information M SH: 'MODIFIED'\n",
      "(0028, 1050) Window Center                       DS: '279.0'\n",
      "(0028, 1051) Window Width                        DS: '558.0'\n",
      "(0029, 0010) Private Creator                     LO: 'GEMS_IMPS_01'\n",
      "(0032, 1060) Requested Procedure Description     LO: 'Ordered for Patricia Doyle by Dr. Holmes'\n",
      "(0032, 4000) Study Comments                      LT: Array of 61 elements\n",
      "(0040, 0241) Performed Station AE Title          AE: 'HTM_SCU'\n",
      "(0040, 0254) Performed Procedure Step Descriptio LO: 'MR BREAST WITH & WITHOUT CONTRAST BILATERAL'\n",
      "(0040, 0275)  Request Attributes Sequence  1 item(s) ---- \n",
      "   (0040, 0007) Scheduled Procedure Step Descriptio LO: 'Ordered for 595-19-4499 by Dr. Holmes'\n",
      "   ---------\n",
      "(0040, 1400) Requested Procedure Comments        LT: Array of 28 elements\n",
      "(0040, a075) Verifying Observer Name             PN: 'BENSON^RICKY'\n",
      "(0040, a123) Person Name                         PN: 'DOYLE^PATRICIA'\n",
      "(0043, 0010) Private Creator                     LO: 'GEMS_PARM_01'\n",
      "(0070, 0084) Content Creator's Name              PN: 'BAILEY^JESSICA'\n",
      "(0117, 0010) Private Creator                     LO: 'UCSF BIRP PRIVATE CREATOR 011710XX'\n",
      "(0117, 1024)  Private tag data  1 item(s) ---- \n",
      "   (0117, 0010) Private Creator                     LO: 'UCSF BIRP PRIVATE CREATOR 011710XX'\n",
      "   (0117, 10c4) Private tag data                    LT: Array of 18 elements\n",
      "   ---------\n",
      "(7fe0, 0010) Pixel Data                          OW: Array of 524288 elements\n"
     ]
    }
   ],
   "source": [
    "print(dataset)"
   ]
  },
  {
   "cell_type": "code",
   "execution_count": null,
   "id": "ceee7651-b3c2-461d-be9a-1a0c8085065a",
   "metadata": {},
   "outputs": [],
   "source": [
    "target_tag = (0x0020, 0x0011)\n",
    "elem = dataset.get(target_tag)\n",
    "\n",
    "elem.value = '1899617'\n",
    "\n",
    "elem = dataset.get(target_tag)\n",
    "\n",
    "elem"
   ]
  },
  {
   "cell_type": "code",
   "execution_count": null,
   "id": "d973c66c-2a6a-4f43-a794-639baf8f778f",
   "metadata": {},
   "outputs": [],
   "source": [
    "# print(pixel_data[0].shape)"
   ]
  },
  {
   "cell_type": "code",
   "execution_count": null,
   "id": "48526aad-46b6-41ce-91de-a55af6f425e0",
   "metadata": {},
   "outputs": [],
   "source": [
    "# display_pixel_arry(pixel_data[0])"
   ]
  },
  {
   "cell_type": "code",
   "execution_count": null,
   "id": "ab697de7-f000-4ad3-bd3b-445565e6e7c5",
   "metadata": {},
   "outputs": [],
   "source": [
    "# detector = DcmRobustPHIDetector()"
   ]
  },
  {
   "cell_type": "code",
   "execution_count": null,
   "id": "a3776e67-925d-4053-bc9a-fb8e105d43ca",
   "metadata": {},
   "outputs": [],
   "source": [
    "# imganonymizer = DCMImageAnonymizer(phi_detector=detector)"
   ]
  },
  {
   "cell_type": "code",
   "execution_count": null,
   "id": "1520cd75-d326-44d9-ba58-9c9b86296608",
   "metadata": {},
   "outputs": [],
   "source": [
    "# updated = imganonymizer.anonymize_dicom_image_data(dataset)"
   ]
  },
  {
   "cell_type": "code",
   "execution_count": null,
   "id": "5655d347-d154-4460-a21b-ce68f77ddbea",
   "metadata": {},
   "outputs": [],
   "source": [
    "# updated"
   ]
  },
  {
   "cell_type": "code",
   "execution_count": null,
   "id": "fdbc92d0-6ca4-496f-8e17-529ed1fc113f",
   "metadata": {},
   "outputs": [],
   "source": [
    "import pydicom\n",
    "from pydicom.dataset import Dataset, DataElement\n",
    "from pydicom.sequence import Sequence\n",
    "\n",
    "from dcm_anonymizers.private_tags_extractor import PrivateTagsExtractor"
   ]
  },
  {
   "cell_type": "code",
   "execution_count": null,
   "id": "d15adf19-7ecf-4386-8b76-ecec8134690e",
   "metadata": {},
   "outputs": [],
   "source": [
    "ptags_dict = PrivateTagsExtractor('../docs/TCIAPrivateTagKB-02-01-2024-formatted.csv')"
   ]
  },
  {
   "cell_type": "code",
   "execution_count": null,
   "id": "90863e13-119d-4705-b1d1-f224aec5b14a",
   "metadata": {},
   "outputs": [],
   "source": [
    "def extract_private_groups_n_creators(dataset):\n",
    "    creators = []\n",
    "    groups = []\n",
    "    for element in dataset:\n",
    "        if element.VR == 'OW':\n",
    "            continue\n",
    "        if element.tag.is_private:\n",
    "            groups.append(f\"{element.tag.group:04x}\")\n",
    "            if element.name == 'Private Creator' and element.value not in creators:                \n",
    "                creators.append(element.value)\n",
    "\n",
    "    groups = list(set(groups))\n",
    "\n",
    "    return groups, creators"
   ]
  },
  {
   "cell_type": "code",
   "execution_count": null,
   "id": "16e1a261-71eb-4d16-a0da-2bcae84f1cd4",
   "metadata": {},
   "outputs": [],
   "source": [
    "# groups, creators = extract_private_groups_n_creators(dataset)\n",
    "\n",
    "# print(groups)\n",
    "# print(creators)"
   ]
  },
  {
   "cell_type": "code",
   "execution_count": null,
   "id": "45e08270-2597-4c2e-812c-79b735fd4db4",
   "metadata": {},
   "outputs": [],
   "source": [
    "# def create_pattents_from_element(element, parent_elements: list[DataElement]):\n",
    "#     patterns = []\n",
    "#     if len(parent_elements) == 0:\n",
    "#         patterns = ptags_dict.search_patterns_from_element(element, creators)\n",
    "#     else:\n",
    "#         element_pattens = ptags_dict.search_patterns_from_element(element, creators)\n",
    "#         for pttrn in element_pattens:\n",
    "#             filtered_rows = ptags_dict.filter_by_pattern_n_vr(pttrn, element.VR)\n",
    "#             print(pttrn, len(filtered_rows))                                                         \n",
    "                                                              \n",
    "#         for pe in parent_elements:\n",
    "#             print(pe)\n",
    "\n",
    "#     return patterns\n",
    "\n",
    "# def traverse_dataset(dataset, parent_elements=[], is_root=True):\n",
    "#     for elem in dataset:\n",
    "#         tag = elem.tag\n",
    "#         VR = elem.VR\n",
    "#         value = elem.value\n",
    "#         name = elem.name\n",
    "\n",
    "#         # Check if the root element is private\n",
    "#         if is_root:\n",
    "#             if not elem.tag.is_private:\n",
    "#                 continue\n",
    "        \n",
    "#         # Process the element\n",
    "#         if isinstance(value, Sequence):\n",
    "#             # If the value is a Sequence, recursively traverse each Dataset in the Sequence\n",
    "#             # print(f\"Sequence: {name} (Tag: {tag})\")\n",
    "#             updated_parent_elements = parent_elements.copy()\n",
    "#             updated_parent_elements.append(elem)\n",
    "#             for i, item in enumerate(value):\n",
    "#                 # print(f\"  Item {i} (Parent: {name})\")\n",
    "#                 traverse_dataset(item, parent_elements=updated_parent_elements, is_root=False)\n",
    "#         else:\n",
    "#             # process the data element\n",
    "#             print(elem.tag)\n",
    "#             patterns = create_pattents_from_element(elem, parent_elements)\n",
    "#             print(patterns)\n",
    "#             print(\"------------------\")"
   ]
  },
  {
   "cell_type": "code",
   "execution_count": null,
   "id": "8240b05c-9398-4e2b-8c81-d1f270c70adf",
   "metadata": {},
   "outputs": [],
   "source": [
    "# traverse_dataset(dataset)"
   ]
  },
  {
   "cell_type": "markdown",
   "id": "299ca618-fb8e-4d99-b202-f3e71ed62844",
   "metadata": {},
   "source": [
    "### Test the Anonymizer on the Validation Data"
   ]
  },
  {
   "cell_type": "code",
   "execution_count": null,
   "id": "b5c2c74f-5c97-4655-8faa-78d76067f3d0",
   "metadata": {},
   "outputs": [],
   "source": [
    "from dcm_anonymizers.phi_detectors import DcmPHIDetector, DcmRobustPHIDetector\n",
    "from dcm_anonymizers.tcia_deid import DCMTCIAAnonymizer\n",
    "from dcm_anonymizers.private_tags_extractor import PrivateTagsExtractorV2"
   ]
  },
  {
   "cell_type": "code",
   "execution_count": null,
   "id": "302807a1-ecc6-469c-b039-997989101d22",
   "metadata": {},
   "outputs": [],
   "source": [
    "PRIVATE_TAGS_DICT = '../dcm_anonymizers/tcia_private_tags_dict.json'\n",
    "\n",
    "# initialize model\n",
    "phi_detector = DcmRobustPHIDetector(logging = True)\n",
    "ptags_extr = PrivateTagsExtractorV2(\n",
    "    private_tags_dict_path=PRIVATE_TAGS_DICT\n",
    ")"
   ]
  },
  {
   "cell_type": "code",
   "execution_count": null,
   "id": "2f388e42-e79c-4172-86e6-de462f15eb0d",
   "metadata": {},
   "outputs": [],
   "source": [
    "anonymizer = DCMTCIAAnonymizer(\n",
    "    phi_detector=None,\n",
    "    notes_phi_detector=phi_detector,\n",
    "    soft_detection=True,\n",
    "    private_tags_extractor=ptags_extr,\n",
    "    rules_json_path=\"../dcm_anonymizers/tcia_deid_attrs.json\"\n",
    ")"
   ]
  },
  {
   "cell_type": "code",
   "execution_count": null,
   "id": "47b24ea2-cc5c-4ed4-97b4-de3c121128bf",
   "metadata": {
    "scrolled": true
   },
   "outputs": [],
   "source": [
    "anonymizer.anonymize_dataset(dataset)"
   ]
  },
  {
   "cell_type": "code",
   "execution_count": null,
   "id": "9264fe33-22eb-4e8d-9f26-a2393d751d61",
   "metadata": {},
   "outputs": [],
   "source": [
    "phi_detector.missed_by_whitelist"
   ]
  },
  {
   "cell_type": "code",
   "execution_count": null,
   "id": "7b6d4e86-2f6c-4eda-8ad1-b0d4878a507c",
   "metadata": {},
   "outputs": [],
   "source": [
    "print(dataset)"
   ]
  },
  {
   "cell_type": "code",
   "execution_count": null,
   "id": "e6f97f88-198f-4e1e-9d71-641798af6da1",
   "metadata": {},
   "outputs": [],
   "source": [
    "anonymizer.history"
   ]
  },
  {
   "cell_type": "markdown",
   "id": "6d7196d4-4416-488a-b0ed-213c720387df",
   "metadata": {},
   "source": [
    "Evaluation of the anonymization process complete\n",
    "=================================================\n",
    "Anonymization Closeness Score 99.159%\n",
    "=================================================\n",
    "Mismatched Tags Summary:\n",
    "--------------------------------------------\n",
    "        Acquisition Device Processing Description: 1 -> 4\n",
    "        Study Comments: 2 -> 4,16\n",
    "        [Image actual date]: 1 -> 5\n",
    "        [Product id]: 1 -> 6\n",
    "        [Pulse Sequence Date]: 1 -> 6\n",
    "        [Image from which prescribed]: 1 -> 6\n",
    "        [Screen Format]: 1 -> 6\n",
    "        [Vas collapse flag]: 1 -> 6\n",
    "        [Scanner Table Entry (single gradient coil systems only)/Scanner Table Entry + Gradient Coil Selected]: 1 -> 6\n",
    "        Patient State: 1 -> 10\n",
    "        Allergies: 3 -> 11,15,17\n",
    "        Reason for the Requested Procedure: 3 -> 11,15,17\n",
    "        Requested Procedure Comments: 3 -> 11,15,17\n",
    "        Reason for the Imaging Service Request: 3 -> 11,15,17\n",
    "        Acquisition DateTime: 1 -> 12\n",
    "        Study Description: 2 -> 13,14\n",
    "        Code Meaning: 2 -> 13,14\n",
    "        Protocol Name: 1 -> 13\n",
    "        Date of Last Calibration: 2 -> 13,16\n",
    "        Image Comments: 1 -> 13\n",
    "        Pixel Aspect Ratio: 1 -> 16\n",
    "        [GradientMode]: 1 -> 19\n",
    "        Comments on the Performed Procedure Step: 1 -> 19\n",
    "        Image Type: 1 -> 20\n",
    "        Planar Configuration: 1 -> 20\n",
    "        Private Creator: 1 -> 20\n",
    "        Series Description: 1 -> 23\n",
    "        Secondary Capture Device ID: 1 -> 24\n",
    "        Overlay Rows: 1 -> 24\n",
    "        Overlay Columns: 1 -> 24\n",
    "        Number of Frames in Overlay: 1 -> 24\n",
    "        Overlay Description: 1 -> 24\n",
    "        Overlay Type: 1 -> 24\n",
    "        Overlay Origin: 1 -> 24\n",
    "        Image Frame Origin: 1 -> 24\n",
    "        Overlay Bits Allocated: 1 -> 24\n",
    "        Overlay Bit Position: 1 -> 24\n",
    "---------------------------------------------"
   ]
  },
  {
   "cell_type": "code",
   "execution_count": null,
   "id": "3ea52dc9-da5b-4846-a2f9-ba6d84367c89",
   "metadata": {},
   "outputs": [],
   "source": []
  }
 ],
 "metadata": {
  "kernelspec": {
   "display_name": "dcm-deid",
   "language": "python",
   "name": "dcm-deid"
  },
  "language_info": {
   "codemirror_mode": {
    "name": "ipython",
    "version": 3
   },
   "file_extension": ".py",
   "mimetype": "text/x-python",
   "name": "python",
   "nbconvert_exporter": "python",
   "pygments_lexer": "ipython3",
   "version": "3.12.0"
  }
 },
 "nbformat": 4,
 "nbformat_minor": 5
}
