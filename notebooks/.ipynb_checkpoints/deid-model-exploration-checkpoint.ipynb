{
 "cells": [
  {
   "cell_type": "code",
   "execution_count": 1,
   "id": "75b81885-dfdc-4394-8f77-2986b8e4fb1b",
   "metadata": {},
   "outputs": [],
   "source": [
    "from transformers import pipeline\n",
    "from transformers import AutoTokenizer, AutoModelForTokenClassification"
   ]
  },
  {
   "cell_type": "code",
   "execution_count": 2,
   "id": "78e5096e-79f9-4e6c-8b63-73c6da919a23",
   "metadata": {},
   "outputs": [],
   "source": [
    "tokenizer = AutoTokenizer.from_pretrained(\"obi/deid_roberta_i2b2\")"
   ]
  },
  {
   "cell_type": "code",
   "execution_count": 3,
   "id": "25b592ca-f81f-4e64-8090-2f3152b2dc62",
   "metadata": {},
   "outputs": [],
   "source": [
    "model = AutoModelForTokenClassification.from_pretrained(\"obi/deid_roberta_i2b2\")"
   ]
  },
  {
   "cell_type": "code",
   "execution_count": 4,
   "id": "919a332a-b730-49ef-a5e5-556f1355cd91",
   "metadata": {},
   "outputs": [
    {
     "name": "stdout",
     "output_type": "stream",
     "text": [
      "Physician Discharge Summary Admit date: 10/12/1982 Discharge date: 10/22/1982 Patient Information Jack Reacher, 54 y.o. male (DOB = 1/21/1928). Home Address: 123 Park Drive, San Diego, CA, 03245. Home Phone: 202-555-0199 (home). Hospital Care Team Service: Orthopedics Inpatient Attending: Roger C Kelly, MD Attending phys phone: (634)743-5135 Discharge Unit: HCS843 Primary Care Physician: Hassan V Kim, MD 512-832-5025.\n"
     ]
    }
   ],
   "source": [
    "sample=\"Physician Discharge Summary Admit date: 10/12/1982 Discharge date: 10/22/1982 Patient Information Jack Reacher, \\\n",
    "54 y.o. male (DOB = 1/21/1928). Home Address: 123 Park Drive, San Diego, CA, 03245. Home Phone: 202-555-0199 (home). Hospital Care \\\n",
    "Team Service: Orthopedics Inpatient Attending: Roger C Kelly, MD Attending phys phone: (634)743-5135 Discharge Unit: HCS843 Primary \\\n",
    "Care Physician: Hassan V Kim, MD 512-832-5025.\"\n",
    "\n",
    "print(sample)"
   ]
  },
  {
   "cell_type": "code",
   "execution_count": 5,
   "id": "f84f282f-c04b-4d62-823e-ceb3429a91f1",
   "metadata": {},
   "outputs": [],
   "source": [
    "from transformers import pipeline"
   ]
  },
  {
   "cell_type": "code",
   "execution_count": 6,
   "id": "0ebaac6b-aedd-4d5d-8853-4e6726089ea1",
   "metadata": {},
   "outputs": [],
   "source": [
    "classifier = pipeline(\"ner\", model=\"obi/deid_roberta_i2b2\")"
   ]
  },
  {
   "cell_type": "code",
   "execution_count": 7,
   "id": "79f52757-6893-4684-afd8-3d5c1f7e9851",
   "metadata": {},
   "outputs": [],
   "source": [
    "outputs = classifier(sample)"
   ]
  },
  {
   "cell_type": "code",
   "execution_count": 8,
   "id": "6b36f805-1bee-4383-9f1c-4cbdf12e84a2",
   "metadata": {},
   "outputs": [],
   "source": [
    "def entity_name(entityvalue: str):\n",
    "    return entityvalue[2:]\n",
    "\n",
    "def process_enitity_val(entityvalue: str):\n",
    "    spacechar = 'Ġ'\n",
    "    if entityvalue[0] == spacechar:\n",
    "        entityvalue = entityvalue[1:]\n",
    "    entityvalue = entityvalue.replace(spacechar, ' ')\n",
    "    return entityvalue"
   ]
  },
  {
   "cell_type": "code",
   "execution_count": 9,
   "id": "57e084da-cfd1-4dc6-9497-dc79c3388318",
   "metadata": {},
   "outputs": [],
   "source": [
    "entities = []\n",
    "entitytype = None\n",
    "entitystart = -1\n",
    "temp = \"\"\n",
    "for idx, item in enumerate(outputs):\n",
    "    if idx == 0:\n",
    "        temp = item['word']\n",
    "        entitytype = entity_name(item['entity'])\n",
    "        entitystart = item['start']\n",
    "        continue\n",
    "    previtem = outputs[idx-1]\n",
    "    currententity = entity_name(item['entity'])\n",
    "    if (item['index'] == previtem['index'] + 1) and (currententity == entitytype):\n",
    "        temp += item['word']\n",
    "    else:\n",
    "        entities.append((process_enitity_val(temp), entitytype, entitystart))\n",
    "        temp = item['word']\n",
    "        entitytype = entity_name(item['entity'])\n",
    "        entitystart = item['start']"
   ]
  },
  {
   "cell_type": "code",
   "execution_count": 10,
   "id": "2bf1a299-4ded-4d84-b5e1-9982a827a786",
   "metadata": {},
   "outputs": [
    {
     "name": "stdout",
     "output_type": "stream",
     "text": [
      "('10/12/1982', 'DATE', 40)\n",
      "('10/22/1982', 'DATE', 67)\n",
      "('Jack Reacher', 'PATIENT', 98)\n",
      "('54', 'AGE', 112)\n",
      "('1/21/1928', 'DATE', 132)\n",
      "('123 Park Drive', 'LOC', 158)\n",
      "('San Diego', 'LOC', 174)\n",
      "('CA', 'LOC', 185)\n",
      "('03245', 'LOC', 189)\n",
      "('202-555-0199', 'PHONE', 208)\n",
      "('Roger C Kelly', 'STAFF', 290)\n",
      "('(634)743-5135', 'PHONE', 330)\n",
      "('H', 'HOSP', 360)\n",
      "('CS843', 'ID', 361)\n",
      "('Hassan V Kim', 'STAFF', 391)\n"
     ]
    }
   ],
   "source": [
    "for e in entities:\n",
    "    assert sample[e[2]] == e[0][0]\n",
    "    print(e)"
   ]
  },
  {
   "cell_type": "code",
   "execution_count": 11,
   "id": "2e0702be-e4f5-4661-bc85-db0ee9c03418",
   "metadata": {},
   "outputs": [],
   "source": [
    "import pydicom\n",
    "\n",
    "from os import listdir\n",
    "from os.path import isfile, join\n",
    "from pathlib import Path\n",
    "\n",
    "import pandas as pd"
   ]
  },
  {
   "cell_type": "code",
   "execution_count": 12,
   "id": "f599432e-9d73-41d9-80b7-d3befa7f5919",
   "metadata": {},
   "outputs": [],
   "source": [
    "def load_metadata(filename: str):\n",
    "    return pd.read_csv(filename)\n",
    "\n",
    "def load_dicoms_from_path(dicompath: str):\n",
    "    alldicompaths = [f for f in listdir(dicompath) if isfile(join(dicompath, f))]\n",
    "    alldicoms = []\n",
    "    for dcm in alldicompaths:\n",
    "        dcmpath = Path(dicompath, dcm)\n",
    "        ds = pydicom.dcmread(dcmpath)\n",
    "        alldicoms.append(ds)\n",
    "    return alldicoms\n",
    "\n",
    "def load_series_by_index(metadatafile: str, seriesidx: int):\n",
    "    metadata = load_metadata(metadatafile)\n",
    "    assert seriesidx < len(metadata), f\"Patient index greater than available patient dicoms. Available patients {len(metadata)}\"\n",
    "    \n",
    "    target_row = metadata.loc[seriesidx]\n",
    "    targetdcmdir = Path(Path(metadatafile).parent, str(target_row['File Location']))\n",
    "    alldicoms = load_dicoms_from_path(targetdcmdir)\n",
    "    \n",
    "    return alldicoms, target_row.to_dict()"
   ]
  },
  {
   "cell_type": "code",
   "execution_count": 13,
   "id": "a3928cd0-7b6b-49e6-a89e-e8d93d533413",
   "metadata": {},
   "outputs": [
    {
     "name": "stdout",
     "output_type": "stream",
     "text": [
      "/home/r079a/Desktop/de-identification/dataset/images/manifest-1617826555824/Pseudo-PHI-DICOM-Data/571403367/07-11-2019-NA-DBT Reconstructed Volume-37558/DBT slices-78838\n"
     ]
    }
   ],
   "source": [
    "metadatafile = '/home/r079a/Desktop/de-identification/dataset/images/manifest-1617826555824/metadata.csv'\n",
    "sample_dicom_path = '/home/r079a/Desktop/de-identification/dataset/images/manifest-1617826555824/Pseudo-PHI-DICOM-Data/571403367/07-11-2019-NA-DBT Reconstructed Volume-37558/DBT slices-78838'\n",
    "print(sample_dicom_path)"
   ]
  },
  {
   "cell_type": "code",
   "execution_count": 14,
   "id": "7e401b03-6197-4a61-8baa-89ef34ed1d2f",
   "metadata": {},
   "outputs": [],
   "source": [
    "alldicoms, patientmetadata = load_series_by_index(metadatafile, seriesidx=14)"
   ]
  },
  {
   "cell_type": "code",
   "execution_count": 15,
   "id": "2c8bdfed-cb11-48b5-b74f-5e53939d0c3c",
   "metadata": {},
   "outputs": [],
   "source": [
    "sampleds = alldicoms[0]"
   ]
  },
  {
   "cell_type": "code",
   "execution_count": 16,
   "id": "50eda146-8321-462d-8332-72964f547ca4",
   "metadata": {},
   "outputs": [],
   "source": [
    "def process_element_val(element):\n",
    "    elementval = \"\"\n",
    "    if element.VM > 1:\n",
    "        elementval = ', '.join([str(item) for item in element.value])\n",
    "    elif element.VM == 1:\n",
    "        elementval = str(element.repval)\n",
    "    elementval = elementval.replace(\"'\", '')\n",
    "    if element.VR == 'PN':\n",
    "        elementval = elementval.replace(\"^\", ' ')\n",
    "    return elementval "
   ]
  },
  {
   "cell_type": "code",
   "execution_count": 17,
   "id": "6d8e6273-40aa-4c34-8177-a69b1b2b2945",
   "metadata": {},
   "outputs": [
    {
     "name": "stdout",
     "output_type": "stream",
     "text": [
      "Specific Character Set: ISO_IR 100, Image Type: ORIGINAL, PRIMARY, LOCALIZER, Instance Creation Date: 19990908, Instance Creation Time: 133228, SOP Class UID: CT Image Storage, SOP Instance UID: 2.25.24988633710936769796383448125889166838, Study Date: 19990908, Series Date: 19990908, Acquisition Date: 19990908, Content Date: 19990908, Study Time: 133157, Series Time: 133157, Acquisition Time: 133221.484357, Content Time: 133228, Accession Number: 664B2583, Modality: CT, Manufacturer: GE MEDICAL SYSTEMS, Institution Name: Williams-Johnson Medical Center, Institution Address: Unit 4899 Box 3625 DPO AP 93015, Referring Physician's Name: THOMAS CHRISTOPHER, Study Description: FORFILE CT CH/AB/PEL - CD for 8155012288, Procedure Code Sequence: <Sequence, length 1>, Series Description: SCOUT, Performing Physician's Name: SMITH MEGHAN, Manufacturer's Model Name: LightSpeed VCT, Referenced Study Sequence: <Sequence, length 1>, Private Creator: GEMS_IDEN_01, Private Creator: GEIIS, Patient's Name: HOOVER RODNEY, Patient ID: 8155012288, Patient's Birth Date: 19420728, Patient's Sex: M, Patient's Age: 057Y, Additional Patient History: BLADDER TUMORS, Private Creator: DLX_PATNT_01, Private Creator: CTP, Private tag data: Pseudo-PHI-DICOM-Data, Private tag data: 87009668, Body Part Examined: BLADDER, Scan Options: SCOUT MODE, Slice Thickness: 660.636308, KVP: 80.0, Spacing Between Slices: 10.0, Data Collection Diameter: 500.0, Software Versions: 09MW08.11, Protocol Name: 5.10 WALL  CHEST ABDOMEN PELVIS WITH CONTRAST, Reconstruction Diameter: , Distance Source to Detector: 949.147, Distance Source to Patient: 541.0, Gantry/Detector Tilt: 0.0, Table Height: 151.0, Rotation Direction: CW, Exposure Time: 6676, X-Ray Tube Current: 10, Exposure: 66, Filter Type: BODY FILTER, Generator Power: 800, Focal Spot(s): 0.7, Convolution Kernel: STANDARD, Patient Position: FFS, Private Creator: GEMS_ACQU_01, Study Instance UID: 2.25.27157770470249991394859340106290544118, Series Instance UID: 2.25.138715083337522222202549203339113512438, Study ID: , Series Number: 1, Acquisition Number: 1, Instance Number: 1, Image Position (Patient): -0.000, 265.000, 60.000, Image Orientation (Patient): 0.000000, -1.000000, 0.000000, 0.000000, 0.000000, -1.000000, Frame of Reference UID: 2.25.98585402628942974234872714721995898358, Position Reference Indicator: SN, Slice Location: 60.0, Private Creator: GEMS_RELA_01, Private Creator: GEMS_STDY_01, Private Creator: GEMS_IMAG_01, Samples per Pixel: 1, Photometric Interpretation: MONOCHROME2, Rows: 1211, Columns: 888, Pixel Spacing: 0.545455, 0.596847, Bits Allocated: 16, Bits Stored: 16, High Bit: 15, Pixel Representation: 1, Longitudinal Temporal Information Modified: MODIFIED, Window Center: 50.0, Window Width: 500.0, Rescale Intercept: -1024.0, Rescale Slope: 1.0, Rescale Type: HU, Performed Procedure Step Start Date: 19990908, Performed Procedure Step Start Time: 133157, Performed Procedure Step Description: C/A/P C, Filler Order Number / Imaging Service Request: , Private Creator: GEMS_PARM_01, Private Creator: GEMS_HELIOS_01, Private Creator: GEHC_CT_ADVAPP_001, Private Creator: GEIIS PACS, Private Creator: GEIIS, Private Creator: GEIIS, Pixel Data: Array of 2150736 elements, \n"
     ]
    }
   ],
   "source": [
    "dcmnote = ''\n",
    "for element in sampleds:\n",
    "    # print(type(element))\n",
    "    # print(element.name, process_element_val(element), element.VM, element.VR)\n",
    "    print(f\"{element.name}: {process_element_val(element)}\")\n",
    "    dcmnote += f\"{element.name}: {process_element_val(element)}, \""
   ]
  },
  {
   "cell_type": "code",
   "execution_count": 18,
   "id": "920dc47b-d7d6-4f55-a278-90668badd1ce",
   "metadata": {},
   "outputs": [],
   "source": [
    "outputs = classifier(dcmnote)"
   ]
  },
  {
   "cell_type": "code",
   "execution_count": 19,
   "id": "3f7da6a4-2644-4b85-a03a-eda9724219c1",
   "metadata": {},
   "outputs": [],
   "source": [
    "entities = []\n",
    "entitytype = None\n",
    "entitystart = -1\n",
    "temp = \"\"\n",
    "for idx, item in enumerate(outputs):\n",
    "    if idx == 0:\n",
    "        temp = item['word']\n",
    "        entitytype = entity_name(item['entity'])\n",
    "        entitystart = item['start']\n",
    "        continue\n",
    "    previtem = outputs[idx-1]\n",
    "    currententity = entity_name(item['entity'])\n",
    "    if (item['index'] == previtem['index'] + 1) and (currententity == entitytype):\n",
    "        temp += item['word']\n",
    "    else:\n",
    "        entities.append((process_enitity_val(temp), entitytype, entitystart))\n",
    "        temp = item['word']\n",
    "        entitytype = entity_name(item['entity'])\n",
    "        entitystart = item['start']"
   ]
  },
  {
   "cell_type": "code",
   "execution_count": 21,
   "id": "49630a89-c9c9-40a5-b744-821b4f3fecb0",
   "metadata": {},
   "outputs": [
    {
     "name": "stdout",
     "output_type": "stream",
     "text": [
      "DATE: 19990908\n",
      "ID: 133\n",
      "DATE: 2\n",
      "ID: 25\n",
      "ID: 24988633710936769796383448125889166838\n",
      "DATE: 19990908\n",
      "DATE: 19990908\n",
      "DATE: 19990908\n",
      "DATE: 19990908\n",
      "PHONE: 133221\n",
      "PHONE: 484\n",
      "ID: 664B25\n",
      "HOSP: GE MEDICAL SYSTEM\n",
      "HOSP: Williams-Johnson Medical Center\n",
      "ID: 4899 Box 36\n",
      "ID: 93\n",
      "STAFF: THOMAS CHRISTOPHER\n",
      "ID: 8155012288\n",
      "PATIENT: SMITH M\n",
      "STAFF: EG\n",
      "PATIENT: HAN\n",
      "PATIENT: HOOVER RODNEY\n",
      "ID: 81550122\n",
      "ID: 194207\n",
      "PHONE: 0\n",
      "AGE: 57\n",
      "ID: 87009\n",
      "ID: 660\n",
      "ID: 636\n"
     ]
    }
   ],
   "source": [
    "for e in entities:\n",
    "    print(f\"{e[1]}: {e[0]}\")"
   ]
  },
  {
   "cell_type": "code",
   "execution_count": null,
   "id": "340ffc8c-07d7-4dc0-a7c1-da0c80ebddfb",
   "metadata": {},
   "outputs": [],
   "source": []
  }
 ],
 "metadata": {
  "kernelspec": {
   "display_name": "dcm-deid",
   "language": "python",
   "name": "dcm-deid"
  },
  "language_info": {
   "codemirror_mode": {
    "name": "ipython",
    "version": 3
   },
   "file_extension": ".py",
   "mimetype": "text/x-python",
   "name": "python",
   "nbconvert_exporter": "python",
   "pygments_lexer": "ipython3",
   "version": "3.12.0"
  }
 },
 "nbformat": 4,
 "nbformat_minor": 5
}
